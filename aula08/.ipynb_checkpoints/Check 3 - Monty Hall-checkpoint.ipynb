{
 "cells": [
  {
   "cell_type": "markdown",
   "metadata": {},
   "source": [
    "## <font color='blue'>Monty Hall</font>"
   ]
  },
  {
   "cell_type": "markdown",
   "metadata": {},
   "source": [
    "O jogo consiste no seguinte: Monty Hall (o apresentador) apresentava 3 portas aos concorrentes, sabendo que atrás de uma delas está um carro e que as outras têm prêmios de pouco valor.\n",
    "\n",
    "Primeiro o concorrente escolhe uma porta que permanece fechada;\n",
    "Em seguida Monty abre uma das outras duas portas que o concorrente não escolheu que não contém o carro escondido;\n",
    "Agora, restando duas portas apenas para escolher, já que uma sem o prêmio bom já foi aberta, e sabendo que o carro está atrás de uma delas, o concorrente tem que se decidir se permanece com a porta que escolheu no início do jogo e abre-a ou se muda para a outra porta que ainda está fechada para então a abrir.\n",
    "Qual é a estratégia mais lógica? Ficar com a porta escolhida inicialmente ou mudar de porta? Com qual das duas portas ainda fechadas o concorrente tem mais probabilidades de ganhar?"
   ]
  },
  {
   "cell_type": "markdown",
   "metadata": {},
   "source": [
    "Aqui iremos estudar o problema de Monty Hall e avaliarmos quais são as probabilidades de acerto se o participante permanecer com a porta escolhida inicialmente ou se ele trocar pela outra que não foi aberta pelo apresentador."
   ]
  },
  {
   "cell_type": "markdown",
   "metadata": {},
   "source": [
    "Em cada jogo é gerada uma escolha aleatória para o jogador"
   ]
  },
  {
   "cell_type": "code",
   "execution_count": 4,
   "metadata": {
    "collapsed": false
   },
   "outputs": [],
   "source": [
    "%matplotlib inline\n",
    "from random import randint\n",
    "import numpy as np\n",
    "import matplotlib.pyplot as plt\n",
    "\n",
    "def EscolherPorta():\n",
    "    PEscolhida = randint(1,3)\n",
    "    return PEscolhida\n",
    "\n",
    "def PortaPremiada():\n",
    "    PPremiada = randint(1,3)\n",
    "    return PPremiada"
   ]
  },
  {
   "cell_type": "markdown",
   "metadata": {},
   "source": [
    "Uma das portas que não é a escolhida nem a premiada é aberta."
   ]
  },
  {
   "cell_type": "code",
   "execution_count": 5,
   "metadata": {
    "collapsed": false
   },
   "outputs": [],
   "source": [
    "def AbrirPorta(PEscolhida, PPremiada):\n",
    "    PAberta = 1\n",
    "    if PAberta == PEscolhida:\n",
    "        PAberta += 1\n",
    "        if PAberta == PPremiada:\n",
    "            PAberta += 1\n",
    "    elif PAberta == PPremiada:\n",
    "        PAberta += 1\n",
    "        if PAberta == PEscolhida:\n",
    "            PAberta += 1\n",
    "    else:\n",
    "        PAberta == PAberta\n",
    "    return PAberta"
   ]
  },
  {
   "cell_type": "markdown",
   "metadata": {},
   "source": [
    "Para solucionarmos o problema, vamos partir da situação em que a porta sempre será trocada, quando restarem apenas duas portas."
   ]
  },
  {
   "cell_type": "code",
   "execution_count": 6,
   "metadata": {
    "collapsed": false
   },
   "outputs": [],
   "source": [
    "def TrocarPorta(PEscolhida, PPremiada, PAberta):\n",
    "    PNova = 1\n",
    "    if PNova == PAberta:\n",
    "        PNova += 1\n",
    "        if PNova == PEscolhida:\n",
    "            PNova += 1\n",
    "    elif PNova == PEscolhida:\n",
    "        PNova += 1\n",
    "        if PNova == PAberta:\n",
    "            PNova += 1    \n",
    "    else:\n",
    "        PNova == PNova\n",
    "    return PNova"
   ]
  },
  {
   "cell_type": "markdown",
   "metadata": {},
   "source": [
    "As vitórias são computadas toda vez que a troca resultar na porta que contém o carro."
   ]
  },
  {
   "cell_type": "code",
   "execution_count": 7,
   "metadata": {
    "collapsed": false
   },
   "outputs": [],
   "source": [
    "def Resultado(PPremiada, PNova):\n",
    "\n",
    "    Result = 0\n",
    "    if PNova == PPremiada:\n",
    "        Result += 1\n",
    "#        print(\"Jogador ganhou!\")\n",
    "    else:\n",
    "        Result += 2\n",
    "#        print(\"Jogador perdeu!\")\n",
    "    return Result"
   ]
  },
  {
   "cell_type": "code",
   "execution_count": 8,
   "metadata": {
    "collapsed": false,
    "scrolled": true
   },
   "outputs": [
    {
     "name": "stdout",
     "output_type": "stream",
     "text": [
      "Vencidas:\n",
      "66687\n",
      "Perdidas:\n",
      "33313\n",
      "Média de acertos\n",
      "66.687\n",
      "Média de erros\n",
      "33.313\n",
      "fim\n"
     ]
    }
   ],
   "source": [
    "Rodada = 0\n",
    "Vencidas = 0\n",
    "Perdidas = 0\n",
    "while Rodada <= 99999:\n",
    "    PEscolhida = EscolherPorta()\n",
    "    PPremiada = PortaPremiada()\n",
    "    PAberta = AbrirPorta(PEscolhida, PPremiada)\n",
    "    PNova = TrocarPorta(PEscolhida, PPremiada, PAberta)\n",
    "    A = Resultado(PPremiada, PNova)\n",
    "    if A == 1:\n",
    "        Vencidas += 1\n",
    "    else:\n",
    "        Perdidas += 1\n",
    "    Rodada += 1\n",
    "print(\"Vencidas:\")\n",
    "print(Vencidas)\n",
    "print(\"Perdidas:\")\n",
    "print(Perdidas)\n",
    "Total = Vencidas + Perdidas\n",
    "MediaV = Vencidas * 100/Total\n",
    "MediaP = Perdidas * 100/Total\n",
    "print(\"Média de acertos\")\n",
    "print(MediaV)\n",
    "print(\"Média de erros\")\n",
    "print(MediaP)\n",
    "print(\"fim\")"
   ]
  },
  {
   "cell_type": "markdown",
   "metadata": {
    "collapsed": true
   },
   "source": [
    "A probabilidade do jogador ganhar o prêmio bom ao trocar a porta que foi inicialmente escolhida por ele pela que sobrou é de aproximadamente 2/3, enquanto se ele permanecesse com a porta que ele havia escolhido no começo do jogo a probabilidade dele ser vencedor seria de 1/3. Portanto, vale à pena trocar de porta em uma situação como essa."
   ]
  },
  {
   "cell_type": "markdown",
   "metadata": {},
   "source": [
    "## <font color='blue'>Exercício 1</font>\n",
    "\n",
    "Monte a simulação de 1000 jogadas de um dado idôneo de 6 faces. Faça o histograma (normalizado) da frequência.\n",
    "\n",
    "    a) Olhando o histograma, o que pode se dizer sobre as probabilidade de cada face?\n",
    "    \n",
    "    b) Discorra sobre o porque da probabilidade não ser exatamente igual à teórica."
   ]
  },
  {
   "cell_type": "code",
   "execution_count": 9,
   "metadata": {
    "collapsed": false
   },
   "outputs": [
    {
     "data": {
      "text/plain": [
       "(array([ 185.,  153.,  159.,  171.,  157.,  175.]),\n",
       " array([ 1.        ,  1.83333333,  2.66666667,  3.5       ,  4.33333333,\n",
       "         5.16666667,  6.        ]),\n",
       " <a list of 6 Patch objects>)"
      ]
     },
     "execution_count": 9,
     "metadata": {},
     "output_type": "execute_result"
    },
    {
     "data": {
      "image/png": "[encoded data removed]",
      "text/plain": [
       "<matplotlib.figure.Figure at 0x14b2e7cdba8>"
      ]
     },
     "metadata": {},
     "output_type": "display_data"
    }
   ],
   "source": [
    "import pandas as pd\n",
    "\n",
    "'''lista = []\n",
    "for i in range(1000):\n",
    "    resultado = randint(1, 6)\n",
    "    lista.append(resultado)\n",
    "\n",
    "histograma = pd.Series(lista)\n",
    "histograma.plot.hist(bins=6)'''\n",
    "\n",
    "numeros = pd.Series(np.random.randint(1,7, size = 1000))\n",
    "plt.hist(numeros, bins=6)"
   ]
  },
  {
   "cell_type": "markdown",
   "metadata": {},
   "source": [
    "B) A probabilidade não é exatamente igual porque o evento não foi iterado vezes o suficiente. Se o dado fosse jogado mais vezes, ele provavelmente ficaria mais fiel à probabilidade teórica."
   ]
  },
  {
   "cell_type": "markdown",
   "metadata": {},
   "source": [
    "___\n",
    "## <font color='blue'>Exercício 2</font>\n",
    "\n",
    "Ampliando o espaço amostral para as possíveis jogadas de 2 dados, analise as seguintes situações:\n",
    "    \n",
    "    a) Jogando os dois dados ao mesmo tempo. Qual é a probabilidade de obter soma 7?\n",
    "    \n",
    "    b) Jogando um dado e depois o segundo dado. Qual é a probabilidade de obter soma 7 já sabendo o resultado do primeiro? Compare o resultado com item anterior! Por que é igual ou diferente?"
   ]
  },
  {
   "cell_type": "code",
   "execution_count": 19,
   "metadata": {
    "collapsed": false
   },
   "outputs": [
    {
     "name": "stdout",
     "output_type": "stream",
     "text": [
      "0.173\n"
     ]
    }
   ],
   "source": [
    "rodada = 1\n",
    "ganhos = 0\n",
    "perdas = 0\n",
    "while rodada <= 1000:\n",
    "    dado1 = np.random.randint(1,7)\n",
    "    dado2 =np.random.randint(1,7)\n",
    "    if dado1 == 1:\n",
    "         if dado2 == 6:\n",
    "            ganhos += 1\n",
    "    elif dado1 == 6:\n",
    "        if dado2 == 1:\n",
    "            ganhos += 1\n",
    "    elif dado1 == 2:\n",
    "        if dado2 == 5:\n",
    "            ganhos += 1\n",
    "    elif dado1 == 5:\n",
    "        if dado2 == 2:\n",
    "            ganhos += 1\n",
    "    elif dado1 == 3:\n",
    "        if dado2 == 4:\n",
    "            ganhos += 1\n",
    "    elif dado1 == 4:\n",
    "        if dado2 == 3:\n",
    "            ganhos += 1\n",
    "    else:\n",
    "        perdas += 1 \n",
    "    rodada += 1\n",
    "print(ganhos/1000)"
   ]
  },
  {
   "cell_type": "markdown",
   "metadata": {},
   "source": [
    "Saber o resultado do 1o dado jogado antes de jogar o 2o dado, não interfere o resultado deste, pois ambos são indepentendes entre si. O resultado de um dado idôneo não depende do resultado de outro dado, ou do resultado anterior, depende apenas do acaso, portanto a probabilidade será a mesma."
   ]
  },
  {
   "cell_type": "code",
   "execution_count": null,
   "metadata": {
    "collapsed": true
   },
   "outputs": [],
   "source": []
  }
 ],
 "metadata": {
  "kernelspec": {
   "display_name": "Python 3",
   "language": "python",
   "name": "python3"
  },
  "language_info": {
   "codemirror_mode": {
    "name": "ipython",
    "version": 3
   },
   "file_extension": ".py",
   "mimetype": "text/x-python",
   "name": "python",
   "nbconvert_exporter": "python",
   "pygments_lexer": "ipython3",
   "version": "3.5.2"
  }
 },
 "nbformat": 4,
 "nbformat_minor": 0
}
