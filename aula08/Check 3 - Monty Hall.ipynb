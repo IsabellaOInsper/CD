{
 "cells": [
  {
   "cell_type": "markdown",
   "metadata": {},
   "source": [
    "# Problema de Monty Hal"
   ]
  },
  {
   "cell_type": "markdown",
   "metadata": {},
   "source": [
    "O jogo consiste no seguinte: Monty Hall (o apresentador) apresentava 3 portas aos concorrentes, sabendo que atrás de uma delas está um carro e que as outras têm prêmios de pouco valor.\n",
    "\n",
    "Primeiro o concorrente escolhe uma porta que permanece fechada;\n",
    "Em seguida Monty abre uma das outras duas portas que o concorrente não escolheu que não contém o carro escondido;\n",
    "Agora, restando duas portas apenas para escolher, já que uma sem o prêmio bom já foi aberta, e sabendo que o carro está atrás de uma delas, o concorrente tem que se decidir se permanece com a porta que escolheu no início do jogo e abre-a ou se muda para a outra porta que ainda está fechada para então a abrir.\n",
    "Qual é a estratégia mais lógica? Ficar com a porta escolhida inicialmente ou mudar de porta? Com qual das duas portas ainda fechadas o concorrente tem mais probabilidades de ganhar? Por quê?"
   ]
  },
  {
   "cell_type": "markdown",
   "metadata": {},
   "source": [
    "Aqui iremos estudar o problema de Monty Hall e avaliarmos quais são as probabilidades de acerto se o participante permanecer com a porta escolhida inicialmente ou se ele trocar pela outra que não foi aberta pelo apresentador."
   ]
  },
  {
   "cell_type": "markdown",
   "metadata": {},
   "source": [
    "Em cada jogo é gerada uma escolha aleatória para o jogador"
   ]
  },
  {
   "cell_type": "code",
   "execution_count": 28,
   "metadata": {
    "collapsed": false
   },
   "outputs": [],
   "source": [
    "from random import randint\n",
    "\n",
    "def EscolherPorta():\n",
    "    PEscolhida = randint(1,3)\n",
    "    return PEscolhida\n",
    "\n",
    "def PortaPremiada():\n",
    "    PPremiada = randint(1,3)\n",
    "    return PPremiada"
   ]
  },
  {
   "cell_type": "markdown",
   "metadata": {},
   "source": [
    "Uma das portas que não é a escolhida nem a premiada é aberta."
   ]
  },
  {
   "cell_type": "code",
   "execution_count": 29,
   "metadata": {
    "collapsed": false
   },
   "outputs": [],
   "source": [
    "def AbrirPorta(PEscolhida, PPremiada):\n",
    "    PAberta = 1\n",
    "    if PAberta == PEscolhida:\n",
    "        PAberta += 1\n",
    "        if PAberta == PPremiada:\n",
    "            PAberta += 1\n",
    "    elif PAberta == PPremiada:\n",
    "        PAberta += 1\n",
    "        if PAberta == PEscolhida:\n",
    "            PAberta += 1\n",
    "    else:\n",
    "        PAberta == PAberta\n",
    "    return PAberta"
   ]
  },
  {
   "cell_type": "markdown",
   "metadata": {},
   "source": [
    "Para solucionarmos o problema, vamos partir da situação em que a porta sempre será trocada, quando restarem apenas duas portas."
   ]
  },
  {
   "cell_type": "code",
   "execution_count": 30,
   "metadata": {
    "collapsed": false
   },
   "outputs": [],
   "source": [
    "def TrocarPorta(PEscolhida, PPremiada, PAberta):\n",
    "    PNova = 1\n",
    "    if PNova == PAberta:\n",
    "        PNova += 1\n",
    "        if PNova == PEscolhida:\n",
    "            PNova += 1\n",
    "    elif PNova == PEscolhida:\n",
    "        PNova += 1\n",
    "        if PNova == PAberta:\n",
    "            PNova += 1    \n",
    "    else:\n",
    "        PNova == PNova\n",
    "    return PNova"
   ]
  },
  {
   "cell_type": "markdown",
   "metadata": {},
   "source": [
    "As vitórias são computadas toda vez que a troca resultar na porta que contém o carro."
   ]
  },
  {
   "cell_type": "code",
   "execution_count": 44,
   "metadata": {
    "collapsed": false
   },
   "outputs": [],
   "source": [
    "def Resultado(PPremiada, PNova):\n",
    "\n",
    "    Result = 0\n",
    "    if PNova == PPremiada:\n",
    "        Result += 1\n",
    "#        print(\"Jogador ganhou!\")\n",
    "    else:\n",
    "        Result += 2\n",
    "#        print(\"Jogador perdeu!\")\n",
    "    return Result"
   ]
  },
  {
   "cell_type": "code",
   "execution_count": 49,
   "metadata": {
    "collapsed": false,
    "scrolled": true
   },
   "outputs": [
    {
     "name": "stdout",
     "output_type": "stream",
     "text": [
      "Vencidas:\n",
      "66812\n",
      "Perdidas:\n",
      "33188\n",
      "Média de acertos\n",
      "66.812\n",
      "Média de erros\n",
      "33.188\n",
      "fim\n"
     ]
    }
   ],
   "source": [
    "Rodada = 0\n",
    "Vencidas = 0\n",
    "Perdidas = 0\n",
    "while Rodada <= 99999:\n",
    "    PEscolhida = EscolherPorta()\n",
    "    PPremiada = PortaPremiada()\n",
    "    PAberta = AbrirPorta(PEscolhida, PPremiada)\n",
    "    PNova = TrocarPorta(PEscolhida, PPremiada, PAberta)\n",
    "    A = Resultado(PPremiada, PNova)\n",
    "    if A == 1:\n",
    "        Vencidas += 1\n",
    "    else:\n",
    "        Perdidas += 1\n",
    "    Rodada += 1\n",
    "print(\"Vencidas:\")\n",
    "print(Vencidas)\n",
    "print(\"Perdidas:\")\n",
    "print(Perdidas)\n",
    "Total = Vencidas + Perdidas\n",
    "MediaV = Vencidas * 100/Total\n",
    "MediaP = Perdidas * 100/Total\n",
    "print(\"Média de acertos\")\n",
    "print(MediaV)\n",
    "print(\"Média de erros\")\n",
    "print(MediaP)\n",
    "print(\"fim\")"
   ]
  },
  {
   "cell_type": "code",
   "execution_count": null,
   "metadata": {
    "collapsed": true
   },
   "outputs": [],
   "source": []
  },
  {
   "cell_type": "code",
   "execution_count": null,
   "metadata": {
    "collapsed": true
   },
   "outputs": [],
   "source": []
  }
 ],
 "metadata": {
  "kernelspec": {
   "display_name": "Python 3",
   "language": "python",
   "name": "python3"
  },
  "language_info": {
   "codemirror_mode": {
    "name": "ipython",
    "version": 3
   },
   "file_extension": ".py",
   "mimetype": "text/x-python",
   "name": "python",
   "nbconvert_exporter": "python",
   "pygments_lexer": "ipython3",
   "version": "3.5.2"
  }
 },
 "nbformat": 4,
 "nbformat_minor": 0
}
