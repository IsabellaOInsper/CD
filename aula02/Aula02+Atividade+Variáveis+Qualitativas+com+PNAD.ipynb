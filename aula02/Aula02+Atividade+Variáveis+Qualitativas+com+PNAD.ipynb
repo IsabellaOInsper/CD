{
 "cells": [
  {
   "cell_type": "markdown",
   "metadata": {},
   "source": [
    "___\n",
    "# Atividade: Variáveis qualitativas com a PNAD (ALUNOS)\n",
    "___\n",
    "\n",
    "## Aula 02\n",
    "\n",
    "\n",
    "**Link úteis:**\n",
    "1.\tLeitura prévia necessária: Magalhães e Lima (7ª. Edição): pág. 9 a 16 – destacando para variáveis qualitativas.\n",
    "2.\t10 Minutes to Pandas: http://pandas.pydata.org/pandas-docs/stable/10min.html\n",
    "3.\tEssential Basic Functionality: http://pandas.pydata.org/pandas-docs/stable/basics.html\n",
    "4.  Estude a aula `Aula02 Análise Exploratoria Variáveis Qualitativas-ALUNOS.ipynb`, o qual contém uma introdução ao Jupyter Notebook. A publicação dessa aula tem como objetivo auxiliá-lo, caso queira, no desenvolvimento dos seus próximos programas, como esta atividade.\n",
    "\n",
    "**Hoje:**\n",
    "1.\tAnalisar variáveis qualitativas de forma uni e bivariadas utilizando tabelas de frequências e gráficos de barras e de pizza (ou setor).\n",
    "2.  Trabalhar com a base de dados da PNAD 2013 - Pesquisa Nacional por Amostra de Domicílios\n",
    "\n",
    "**Próxima aula:**\n",
    "1.\tLeitura prévia necessária: Magalhães e Lima (7ª. Edição): pág. 9 a 17 – destacando para variáveis quantitativas; pág. 106 e 107 (Definição 4.1 e Exemplo 4.1).\n",
    "\n",
    "___\n"
   ]
  },
  {
   "cell_type": "markdown",
   "metadata": {},
   "source": [
    "___\n",
    "## <font color='blue'>PNAD 2013 – PESQUISA NACIONAL POR AMOSTRA DE DOMICÍLIOS</font>\n",
    "\n",
    "**Base de dados reduzida: ** `pes2013A.txt` (75 MB)\n",
    "[Acesse a base de dados aqui: https://dl.dropboxusercontent.com/u/65763596/Aula02/pes2013A.txt] \n",
    "\n",
    "**Dicionário das variáveis: ** `Dicionário de variáveis de pessoas - PNAD 2013.xlsx`\n",
    "[Acesse dicionário aqui: https://dl.dropboxusercontent.com/u/65763596/Aula02/Dicion%C3%A1rio%20de%20vari%C3%A1veis%20de%20pessoas%20-%20PNAD%202013.xls]\n",
    "\n",
    "\n",
    "Muitos especialistas na área de negócios dizem que empresários mais bem sucedidos são aqueles que fazem um planejamento antes de começar seu próprio negócio. Nessa visão, imagine que o Sr. Gold tenha como grande objetivo abrir uma nova faculdade e para isso deseja estudar o perfil do estudante que cursa ensino médio ou pré-vestibular e do que cursa ensino superior. \n",
    "\n",
    "Assuma que as variáveis de interesse a respeito dos estudantes sejam relativamente as mesmas de 2013 até o momento atual. Nesse caso, seja criativo para ajudar o Sr. Gold que deseja abrir seu negócio, mas não tem certeza sobre quais variáveis o interessam. \n",
    "\n",
    "Vocês podem ajudá-lo?!  \n",
    "\n",
    "As variáveis a seguir devem fazer parte da sua análise:\n",
    "\n",
    "* V0302: sexo\n",
    "* V0404: cor ou raça\n",
    "* V6002: rede de ensino\n",
    "* V4802: nível de ensino e grupos de séries do ensino fundamental que frequentavam (todos os estudantes)\n",
    "\n",
    "** Crie uma variável com região do indivíduo amostrado considerando a variável `UF` que define o estado e também trabalhe com essa nova variável em suas análises. ** \n",
    "\n",
    "** Escolha mais pelo menos DUAS variáveis qualitativas para completar sua análise!! **\n",
    "\n",
    "Faça uma análise exploratória apenas com as variáveis qualitativas com foco no objetivo do Sr. Gold.\n",
    "\n",
    "Sua análise deve conter pelo menos uma das seguintes visualizações:\n",
    "\n",
    "1. Gráfico de colunas (bar) e setor (pie) com as frequências relativas cadas categorias das variáveis qualitativas.\n",
    "2. Tabela cruzada entre pares de variaveis qualitativas. Montar o gráfico de colunas. Repetir o processo habilitando a opção \"stacked=True\".\n",
    "\n",
    "\n",
    "___\n",
    "\n",
    "\n",
    "\n",
    "<font color='red'>\n",
    "Crie um repositório chamado CD em seu Github\n",
    "</font>\n",
    "\n",
    "\n",
    "Neste repositório, salve seu trabalho numa pasta chamada aula2\n",
    "\n",
    "Por exemplo, se seu login for *pikachu* o projeto vai estar na pasta:\n",
    "\n",
    "https://github.com/<font color=red>pikachu/CD/aula2</font>\n",
    "\n",
    "\n",
    "\n",
    "## <font color='red'>Terça-feira (dia 16/08), no horário de atendimento da sua turma, deverá apresentar aos NINJAS!!</font>\n",
    "___"
   ]
  },
  {
   "cell_type": "code",
<<<<<<< HEAD
   "execution_count": 1,
=======
   "execution_count": 2,
>>>>>>> 919c323f01073d30872a8e21a72cee1fd4995e4b
   "metadata": {
    "collapsed": false
   },
   "outputs": [],
   "source": [
    "%matplotlib inline\n",
    "import pandas as pd\n",
    "import matplotlib.pyplot as plt\n",
    "import os"
   ]
  },
  {
   "cell_type": "code",
   "execution_count": 2,
   "metadata": {
    "collapsed": false
   },
   "outputs": [
    {
     "name": "stdout",
     "output_type": "stream",
     "text": [
<<<<<<< HEAD
      "Diretório\n",
=======
      "Esperamos trabalhar no diretório\n",
>>>>>>> 919c323f01073d30872a8e21a72cee1fd4995e4b
      "C:\\Users\\pedro\\Documents\\facul\\segundo semestre\\Ciencia dos dados\\CDEng\\aula02\n"
     ]
    }
   ],
   "source": [
<<<<<<< HEAD
    "print('Diretório')\n",
=======
    "print('Esperamos trabalhar no diretório')\n",
>>>>>>> 919c323f01073d30872a8e21a72cee1fd4995e4b
    "print(os.getcwd())"
   ]
  },
  {
   "cell_type": "code",
<<<<<<< HEAD
   "execution_count": 3,
=======
   "execution_count": 4,
>>>>>>> 919c323f01073d30872a8e21a72cee1fd4995e4b
   "metadata": {
    "collapsed": false
   },
   "outputs": [],
   "source": [
    "dados = pd.read_table(\"pes2013A.txt\", sep = \" \" , encoding = \"windows-1252\" )"
   ]
  },
  {
   "cell_type": "code",
<<<<<<< HEAD
   "execution_count": 4,
=======
   "execution_count": 8,
>>>>>>> 919c323f01073d30872a8e21a72cee1fd4995e4b
   "metadata": {
    "collapsed": false
   },
   "outputs": [
    {
     "data": {
      "text/html": [
       "<div>\n",
       "<table border=\"1\" class=\"dataframe\">\n",
       "  <thead>\n",
       "    <tr style=\"text-align: right;\">\n",
       "      <th></th>\n",
       "      <th>V0101</th>\n",
       "      <th>UF</th>\n",
       "      <th>V0102</th>\n",
       "      <th>V0103</th>\n",
       "      <th>V0301</th>\n",
       "      <th>V0302</th>\n",
       "      <th>V8005</th>\n",
       "      <th>V0404</th>\n",
       "      <th>V4011</th>\n",
       "      <th>V0412</th>\n",
       "      <th>...</th>\n",
       "      <th>V4706</th>\n",
       "      <th>V4707</th>\n",
       "      <th>V4809</th>\n",
       "      <th>V4810</th>\n",
       "      <th>V4711</th>\n",
       "      <th>V4718</th>\n",
       "      <th>V4720</th>\n",
       "      <th>V4742</th>\n",
       "      <th>V4750</th>\n",
       "      <th>V4729</th>\n",
       "    </tr>\n",
       "  </thead>\n",
       "  <tbody>\n",
       "    <tr>\n",
       "      <th>1</th>\n",
       "      <td>2013</td>\n",
       "      <td>11</td>\n",
       "      <td>15</td>\n",
       "      <td>3</td>\n",
       "      <td>1</td>\n",
       "      <td>4</td>\n",
       "      <td>42</td>\n",
       "      <td>2</td>\n",
       "      <td>5</td>\n",
       "      <td>2</td>\n",
       "      <td>...</td>\n",
       "      <td>NaN</td>\n",
       "      <td>NaN</td>\n",
       "      <td>NaN</td>\n",
       "      <td>NaN</td>\n",
       "      <td>NaN</td>\n",
       "      <td>NaN</td>\n",
       "      <td>350</td>\n",
       "      <td>350</td>\n",
       "      <td>350</td>\n",
       "      <td>244</td>\n",
       "    </tr>\n",
       "    <tr>\n",
       "      <th>2</th>\n",
       "      <td>2013</td>\n",
       "      <td>11</td>\n",
       "      <td>15</td>\n",
       "      <td>4</td>\n",
       "      <td>1</td>\n",
       "      <td>4</td>\n",
       "      <td>64</td>\n",
       "      <td>8</td>\n",
       "      <td>7</td>\n",
       "      <td>2</td>\n",
       "      <td>...</td>\n",
       "      <td>NaN</td>\n",
       "      <td>NaN</td>\n",
       "      <td>NaN</td>\n",
       "      <td>NaN</td>\n",
       "      <td>NaN</td>\n",
       "      <td>NaN</td>\n",
       "      <td>678</td>\n",
       "      <td>339</td>\n",
       "      <td>339</td>\n",
       "      <td>243</td>\n",
       "    </tr>\n",
       "    <tr>\n",
       "      <th>3</th>\n",
       "      <td>2013</td>\n",
       "      <td>11</td>\n",
       "      <td>15</td>\n",
       "      <td>4</td>\n",
       "      <td>2</td>\n",
       "      <td>4</td>\n",
       "      <td>13</td>\n",
       "      <td>4</td>\n",
       "      <td>0</td>\n",
       "      <td>2</td>\n",
       "      <td>...</td>\n",
       "      <td>NaN</td>\n",
       "      <td>NaN</td>\n",
       "      <td>NaN</td>\n",
       "      <td>NaN</td>\n",
       "      <td>NaN</td>\n",
       "      <td>NaN</td>\n",
       "      <td>0</td>\n",
       "      <td>339</td>\n",
       "      <td>339</td>\n",
       "      <td>243</td>\n",
       "    </tr>\n",
       "    <tr>\n",
       "      <th>4</th>\n",
       "      <td>2013</td>\n",
       "      <td>11</td>\n",
       "      <td>15</td>\n",
       "      <td>5</td>\n",
       "      <td>1</td>\n",
       "      <td>2</td>\n",
       "      <td>23</td>\n",
       "      <td>8</td>\n",
       "      <td>0</td>\n",
       "      <td>2</td>\n",
       "      <td>...</td>\n",
       "      <td>1</td>\n",
       "      <td>3</td>\n",
       "      <td>5</td>\n",
       "      <td>5</td>\n",
       "      <td>1</td>\n",
       "      <td>800</td>\n",
       "      <td>800</td>\n",
       "      <td>266</td>\n",
       "      <td>266</td>\n",
       "      <td>243</td>\n",
       "    </tr>\n",
       "    <tr>\n",
       "      <th>5</th>\n",
       "      <td>2013</td>\n",
       "      <td>11</td>\n",
       "      <td>15</td>\n",
       "      <td>5</td>\n",
       "      <td>2</td>\n",
       "      <td>4</td>\n",
       "      <td>19</td>\n",
       "      <td>8</td>\n",
       "      <td>0</td>\n",
       "      <td>2</td>\n",
       "      <td>...</td>\n",
       "      <td>NaN</td>\n",
       "      <td>NaN</td>\n",
       "      <td>NaN</td>\n",
       "      <td>NaN</td>\n",
       "      <td>NaN</td>\n",
       "      <td>NaN</td>\n",
       "      <td>0</td>\n",
       "      <td>266</td>\n",
       "      <td>266</td>\n",
       "      <td>243</td>\n",
       "    </tr>\n",
       "  </tbody>\n",
       "</table>\n",
       "<p>5 rows × 72 columns</p>\n",
       "</div>"
      ],
      "text/plain": [
       "   V0101  UF  V0102  V0103  V0301  V0302  V8005  V0404  V4011  V0412  ...    \\\n",
       "1   2013  11     15      3      1      4     42      2      5      2  ...     \n",
       "2   2013  11     15      4      1      4     64      8      7      2  ...     \n",
       "3   2013  11     15      4      2      4     13      4      0      2  ...     \n",
       "4   2013  11     15      5      1      2     23      8      0      2  ...     \n",
       "5   2013  11     15      5      2      4     19      8      0      2  ...     \n",
       "\n",
       "   V4706  V4707  V4809  V4810  V4711  V4718  V4720  V4742  V4750  V4729  \n",
       "1    NaN    NaN    NaN    NaN    NaN    NaN    350    350    350    244  \n",
       "2    NaN    NaN    NaN    NaN    NaN    NaN    678    339    339    243  \n",
       "3    NaN    NaN    NaN    NaN    NaN    NaN      0    339    339    243  \n",
       "4      1      3      5      5      1    800    800    266    266    243  \n",
       "5    NaN    NaN    NaN    NaN    NaN    NaN      0    266    266    243  \n",
       "\n",
       "[5 rows x 72 columns]"
      ]
     },
<<<<<<< HEAD
     "execution_count": 4,
=======
     "execution_count": 8,
>>>>>>> 919c323f01073d30872a8e21a72cee1fd4995e4b
     "metadata": {},
     "output_type": "execute_result"
    }
   ],
   "source": [
    "dados.head()"
   ]
  },
  {
   "cell_type": "code",
<<<<<<< HEAD
   "execution_count": 5,
=======
   "execution_count": 9,
>>>>>>> 919c323f01073d30872a8e21a72cee1fd4995e4b
   "metadata": {
    "collapsed": false
   },
   "outputs": [
    {
     "data": {
      "text/html": [
       "<div>\n",
       "<table border=\"1\" class=\"dataframe\">\n",
       "  <thead>\n",
       "    <tr style=\"text-align: right;\">\n",
       "      <th></th>\n",
       "      <th>V0101</th>\n",
       "      <th>UF</th>\n",
       "      <th>V0102</th>\n",
       "      <th>V0103</th>\n",
       "      <th>V0301</th>\n",
       "      <th>V0302</th>\n",
       "      <th>V8005</th>\n",
       "    </tr>\n",
       "  </thead>\n",
       "  <tbody>\n",
       "    <tr>\n",
       "      <th>1</th>\n",
       "      <td>2013</td>\n",
       "      <td>11</td>\n",
       "      <td>15</td>\n",
       "      <td>3</td>\n",
       "      <td>1</td>\n",
       "      <td>4</td>\n",
       "      <td>42</td>\n",
       "    </tr>\n",
       "    <tr>\n",
       "      <th>2</th>\n",
       "      <td>2013</td>\n",
       "      <td>11</td>\n",
       "      <td>15</td>\n",
       "      <td>4</td>\n",
       "      <td>1</td>\n",
       "      <td>4</td>\n",
       "      <td>64</td>\n",
       "    </tr>\n",
       "    <tr>\n",
       "      <th>3</th>\n",
       "      <td>2013</td>\n",
       "      <td>11</td>\n",
       "      <td>15</td>\n",
       "      <td>4</td>\n",
       "      <td>2</td>\n",
       "      <td>4</td>\n",
       "      <td>13</td>\n",
       "    </tr>\n",
       "    <tr>\n",
       "      <th>4</th>\n",
       "      <td>2013</td>\n",
       "      <td>11</td>\n",
       "      <td>15</td>\n",
       "      <td>5</td>\n",
       "      <td>1</td>\n",
       "      <td>2</td>\n",
       "      <td>23</td>\n",
       "    </tr>\n",
       "    <tr>\n",
       "      <th>5</th>\n",
       "      <td>2013</td>\n",
       "      <td>11</td>\n",
       "      <td>15</td>\n",
       "      <td>5</td>\n",
       "      <td>2</td>\n",
       "      <td>4</td>\n",
       "      <td>19</td>\n",
       "    </tr>\n",
       "  </tbody>\n",
       "</table>\n",
       "</div>"
      ],
      "text/plain": [
       "   V0101  UF  V0102  V0103  V0301  V0302  V8005\n",
       "1   2013  11     15      3      1      4     42\n",
       "2   2013  11     15      4      1      4     64\n",
       "3   2013  11     15      4      2      4     13\n",
       "4   2013  11     15      5      1      2     23\n",
       "5   2013  11     15      5      2      4     19"
      ]
     },
<<<<<<< HEAD
     "execution_count": 5,
=======
     "execution_count": 9,
>>>>>>> 919c323f01073d30872a8e21a72cee1fd4995e4b
     "metadata": {},
     "output_type": "execute_result"
    }
   ],
   "source": [
    "dados.iloc[0:5,0:7]"
   ]
  },
  {
   "cell_type": "code",
<<<<<<< HEAD
   "execution_count": 6,
=======
   "execution_count": 46,
>>>>>>> 919c323f01073d30872a8e21a72cee1fd4995e4b
   "metadata": {
    "collapsed": false
   },
   "outputs": [
    {
     "data": {
      "text/html": [
       "<div>\n",
       "<table border=\"1\" class=\"dataframe\">\n",
       "  <thead>\n",
       "    <tr style=\"text-align: right;\">\n",
       "      <th></th>\n",
       "      <th>V0302</th>\n",
       "    </tr>\n",
       "  </thead>\n",
       "  <tbody>\n",
       "    <tr>\n",
       "      <th>1</th>\n",
       "      <td>4</td>\n",
       "    </tr>\n",
       "    <tr>\n",
       "      <th>2</th>\n",
       "      <td>4</td>\n",
       "    </tr>\n",
       "    <tr>\n",
       "      <th>3</th>\n",
       "      <td>4</td>\n",
       "    </tr>\n",
       "    <tr>\n",
       "      <th>4</th>\n",
       "      <td>2</td>\n",
       "    </tr>\n",
       "    <tr>\n",
       "      <th>5</th>\n",
       "      <td>4</td>\n",
       "    </tr>\n",
       "  </tbody>\n",
       "</table>\n",
       "</div>"
      ],
      "text/plain": [
<<<<<<< HEAD
       "   V0302\n",
       "1      4\n",
       "2      4\n",
       "3      4\n",
       "4      2\n",
       "5      4"
      ]
     },
     "execution_count": 6,
=======
       "  V0302\n",
       "1     4\n",
       "2     4\n",
       "3     4\n",
       "4     2\n",
       "5     4"
      ]
     },
     "execution_count": 46,
>>>>>>> 919c323f01073d30872a8e21a72cee1fd4995e4b
     "metadata": {},
     "output_type": "execute_result"
    }
   ],
   "source": [
    "pd.DataFrame(dados.iloc[0:5,5])"
   ]
  },
  {
   "cell_type": "code",
<<<<<<< HEAD
   "execution_count": 7,
=======
   "execution_count": 11,
>>>>>>> 919c323f01073d30872a8e21a72cee1fd4995e4b
   "metadata": {
    "collapsed": false
   },
   "outputs": [
    {
     "data": {
      "text/plain": [
       "(362555, 72)"
      ]
     },
<<<<<<< HEAD
     "execution_count": 7,
=======
     "execution_count": 11,
>>>>>>> 919c323f01073d30872a8e21a72cee1fd4995e4b
     "metadata": {},
     "output_type": "execute_result"
    }
   ],
   "source": [
    "dados.shape"
   ]
  },
  {
   "cell_type": "code",
<<<<<<< HEAD
   "execution_count": 8,
=======
   "execution_count": 12,
>>>>>>> 919c323f01073d30872a8e21a72cee1fd4995e4b
   "metadata": {
    "collapsed": false
   },
   "outputs": [
    {
     "data": {
      "text/plain": [
       "['V0101',\n",
       " 'UF',\n",
       " 'V0102',\n",
       " 'V0103',\n",
       " 'V0301',\n",
       " 'V0302',\n",
       " 'V8005',\n",
       " 'V0404',\n",
       " 'V4011',\n",
       " 'V0412',\n",
       " 'V0501',\n",
       " 'V0502',\n",
       " 'V5030',\n",
       " 'V0504',\n",
       " 'V0505',\n",
       " 'V5061',\n",
       " 'V5062',\n",
       " 'V5063',\n",
       " 'V5064',\n",
       " 'V5065',\n",
       " 'V0601',\n",
       " 'V0602',\n",
       " 'V6002',\n",
       " 'V6020',\n",
       " 'V6003',\n",
       " 'V0606',\n",
       " 'V6007',\n",
       " 'V0611',\n",
       " 'V06111',\n",
       " 'V061111',\n",
       " 'V061112',\n",
       " 'V061113',\n",
       " 'V061114',\n",
       " 'V06112',\n",
       " 'V9001',\n",
       " 'V9906',\n",
       " 'V9907',\n",
       " 'V9029',\n",
       " 'V9030',\n",
       " 'V9031',\n",
       " 'V9032',\n",
       " 'V9042',\n",
       " 'V9043',\n",
       " 'V9044',\n",
       " 'V9045',\n",
       " 'V9046',\n",
       " 'V9047',\n",
       " 'V9048',\n",
       " 'V1091',\n",
       " 'V1092',\n",
       " 'V1101',\n",
       " 'V1141',\n",
       " 'V1142',\n",
       " 'V1151',\n",
       " 'V1152',\n",
       " 'V1153',\n",
       " 'V1154',\n",
       " 'V4801',\n",
       " 'V4802',\n",
       " 'V4803',\n",
       " 'V4704',\n",
       " 'V4805',\n",
       " 'V4706',\n",
       " 'V4707',\n",
       " 'V4809',\n",
       " 'V4810',\n",
       " 'V4711',\n",
       " 'V4718',\n",
       " 'V4720',\n",
       " 'V4742',\n",
       " 'V4750',\n",
       " 'V4729']"
      ]
     },
<<<<<<< HEAD
     "execution_count": 8,
=======
     "execution_count": 12,
>>>>>>> 919c323f01073d30872a8e21a72cee1fd4995e4b
     "metadata": {},
     "output_type": "execute_result"
    }
   ],
   "source": [
    "list(dados)"
   ]
  },
  {
   "cell_type": "code",
<<<<<<< HEAD
   "execution_count": 9,
   "metadata": {
    "collapsed": false
   },
   "outputs": [],
   "source": [
    "n = dados.shape[0]\n"
=======
   "execution_count": 54,
   "metadata": {
    "collapsed": true
   },
   "outputs": [],
   "source": [
    "n = dados.shape[0]"
>>>>>>> 919c323f01073d30872a8e21a72cee1fd4995e4b
   ]
  },
  {
   "cell_type": "code",
<<<<<<< HEAD
   "execution_count": 10,
   "metadata": {
    "collapsed": false
   },
   "outputs": [
    {
     "ename": "SyntaxError",
     "evalue": "invalid syntax (<ipython-input-10-343fb110b899>, line 7)",
     "output_type": "error",
     "traceback": [
      "\u001b[0;36m  File \u001b[0;32m\"<ipython-input-10-343fb110b899>\"\u001b[0;36m, line \u001b[0;32m7\u001b[0m\n\u001b[0;31m    dados..cat.categories = ('Analfabeto', '1o. Grau', '2o. Grau', 'Graduacao', 'Pos-Graduacao')\u001b[0m\n\u001b[0m          ^\u001b[0m\n\u001b[0;31mSyntaxError\u001b[0m\u001b[0;31m:\u001b[0m invalid syntax\n"
     ]
    }
   ],
=======
   "execution_count": 42,
   "metadata": {
    "collapsed": true
   },
   "outputs": [],
>>>>>>> 919c323f01073d30872a8e21a72cee1fd4995e4b
   "source": [
    "dados.V0302 = dados.V0302.astype('category')\n",
    "dados.V0301 = dados.V0301.astype('category')\n",
    "dados.V0404 = dados.V0404.astype('category')\n",
    "dados.V6002 = dados.V6002.astype('category')\n",
<<<<<<< HEAD
    "dados.V4802 = dados.V4802.astype('category')\n",
    "dados.UF = dados.UF.astype('category')\n",
    "dados.cat.categories = ('Analfabeto', '1o. Grau', '2o. Grau', 'Graduacao', 'Pos-Graduacao')"
=======
    "dados.V4802 = dados.V4802.astype('category')"
>>>>>>> 919c323f01073d30872a8e21a72cee1fd4995e4b
   ]
  },
  {
   "cell_type": "code",
<<<<<<< HEAD
   "execution_count": 11,
=======
   "execution_count": 89,
>>>>>>> 919c323f01073d30872a8e21a72cee1fd4995e4b
   "metadata": {
    "collapsed": false
   },
   "outputs": [
    {
     "name": "stdout",
     "output_type": "stream",
     "text": [
      "Frequências relativas por sexo:\n",
<<<<<<< HEAD
      "4    51.42751\n",
      "2    48.57249\n",
      "Name: V0302, dtype: float64 \n",
      "\n",
      "Frequências relativas por Estado Civil:\n",
      "8    48.0\n",
      "2    42.8\n",
      "4     8.3\n",
      "0     0.5\n",
=======
      "4    51.79250\n",
      "2    48.91722\n",
      "dtype: float64 \n",
      "\n",
      "Frequências relativas por Estado Civil:\n",
      "8    48.4\n",
      "2    43.2\n",
      "4     8.4\n",
      "0     0.4\n",
>>>>>>> 919c323f01073d30872a8e21a72cee1fd4995e4b
      "6     0.4\n",
      "9     0.0\n",
      "Name: V0404, dtype: float64 \n",
      "\n"
     ]
    }
   ],
   "source": [
    "print('Frequências relativas por sexo:')\n",
<<<<<<< HEAD
    "ut1 = ((dados.V0302.value_counts()/n*100).round(decimals=5))\n",
    "print(ut1,'\\n')\n",
    "\n",
    "\n",
    "\n",
    "print('Frequências relativas por Estado Civil:')\n",
    "ut2 = ((dados.V0404.value_counts()/n*100).round(decimals=1))\n",
=======
    "ut1 = ((dados.V0302.value_counts()/n*0.01).round(decimals=5))*2\n",
    "print(ut1,'\\n')\n",
    "\n",
    "print('Frequências relativas por Estado Civil:')\n",
    "ut2 = ((dados.V0404.value_counts()/n*0.01).round(decimals=1))*2\n",
>>>>>>> 919c323f01073d30872a8e21a72cee1fd4995e4b
    "print(ut2,'\\n')"
   ]
  },
  {
   "cell_type": "code",
<<<<<<< HEAD
   "execution_count": 12,
=======
   "execution_count": 84,
>>>>>>> 919c323f01073d30872a8e21a72cee1fd4995e4b
   "metadata": {
    "collapsed": false
   },
   "outputs": [
    {
     "data": {
      "text/plain": [
<<<<<<< HEAD
       "4    51.427508\n",
       "2    48.572492\n",
       "Name: V0302, dtype: float64"
      ]
     },
     "execution_count": 12,
=======
       "4    51.792500\n",
       "2    48.917222\n",
       "dtype: float64"
      ]
     },
     "execution_count": 84,
>>>>>>> 919c323f01073d30872a8e21a72cee1fd4995e4b
     "metadata": {},
     "output_type": "execute_result"
    }
   ],
   "source": [
<<<<<<< HEAD
    "(dados.V0302.value_counts()/n*100)"
=======
    "(dados.V0302.value_counts()/n*0.01)*2"
>>>>>>> 919c323f01073d30872a8e21a72cee1fd4995e4b
   ]
  },
  {
   "cell_type": "code",
<<<<<<< HEAD
   "execution_count": 13,
=======
   "execution_count": 85,
>>>>>>> 919c323f01073d30872a8e21a72cee1fd4995e4b
   "metadata": {
    "collapsed": false
   },
   "outputs": [
    {
<<<<<<< HEAD
     "ename": "AttributeError",
     "evalue": "'DataFrame' object has no attribute 'ut1'",
     "output_type": "error",
     "traceback": [
      "\u001b[0;31m---------------------------------------------------------------------------\u001b[0m",
      "\u001b[0;31mAttributeError\u001b[0m                            Traceback (most recent call last)",
      "\u001b[0;32m<ipython-input-13-45f9b11a5387>\u001b[0m in \u001b[0;36m<module>\u001b[0;34m()\u001b[0m\n\u001b[1;32m      1\u001b[0m \u001b[0mplot\u001b[0m \u001b[0;34m=\u001b[0m \u001b[0mut1\u001b[0m\u001b[0;34m.\u001b[0m\u001b[0mplot\u001b[0m\u001b[0;34m(\u001b[0m\u001b[0mkind\u001b[0m\u001b[0;34m=\u001b[0m\u001b[0;34m'bar'\u001b[0m\u001b[0;34m,\u001b[0m\u001b[0mtitle\u001b[0m\u001b[0;34m=\u001b[0m\u001b[0;34m'Generos'\u001b[0m\u001b[0;34m,\u001b[0m\u001b[0mfigsize\u001b[0m\u001b[0;34m=\u001b[0m\u001b[0;34m(\u001b[0m\u001b[0;36m6\u001b[0m\u001b[0;34m,\u001b[0m \u001b[0;36m6\u001b[0m\u001b[0;34m)\u001b[0m\u001b[0;34m,\u001b[0m\u001b[0mcolor\u001b[0m\u001b[0;34m=\u001b[0m\u001b[0;34m(\u001b[0m\u001b[0;34m'b'\u001b[0m\u001b[0;34m,\u001b[0m\u001b[0;34m'g'\u001b[0m\u001b[0;34m)\u001b[0m\u001b[0;34m)\u001b[0m\u001b[0;34m\u001b[0m\u001b[0m\n\u001b[0;32m----> 2\u001b[0;31m \u001b[0mdados\u001b[0m\u001b[0;34m.\u001b[0m\u001b[0mut1\u001b[0m\u001b[0;34m.\u001b[0m\u001b[0mcat\u001b[0m\u001b[0;34m.\u001b[0m\u001b[0mcategories\u001b[0m \u001b[0;34m=\u001b[0m \u001b[0;34m(\u001b[0m\u001b[0;34m'Masculino'\u001b[0m\u001b[0;34m,\u001b[0m \u001b[0;34m'Feminino'\u001b[0m\u001b[0;34m)\u001b[0m\u001b[0;34m\u001b[0m\u001b[0m\n\u001b[0m\u001b[1;32m      3\u001b[0m \u001b[0mplt\u001b[0m\u001b[0;34m.\u001b[0m\u001b[0mylabel\u001b[0m\u001b[0;34m(\u001b[0m\u001b[0;34m'Freq.Relativa (em%)'\u001b[0m\u001b[0;34m)\u001b[0m\u001b[0;34m\u001b[0m\u001b[0m\n\u001b[1;32m      4\u001b[0m \u001b[0mplt\u001b[0m\u001b[0;34m.\u001b[0m\u001b[0mxlabel\u001b[0m\u001b[0;34m(\u001b[0m\u001b[0;34m''\u001b[0m\u001b[0;34m)\u001b[0m\u001b[0;34m\u001b[0m\u001b[0m\n",
      "\u001b[0;32mC:\\Users\\pedro\\Anaconda3\\lib\\site-packages\\pandas\\core\\generic.py\u001b[0m in \u001b[0;36m__getattr__\u001b[0;34m(self, name)\u001b[0m\n\u001b[1;32m   2358\u001b[0m                 \u001b[0;32mreturn\u001b[0m \u001b[0mself\u001b[0m\u001b[0;34m[\u001b[0m\u001b[0mname\u001b[0m\u001b[0;34m]\u001b[0m\u001b[0;34m\u001b[0m\u001b[0m\n\u001b[1;32m   2359\u001b[0m             raise AttributeError(\"'%s' object has no attribute '%s'\" %\n\u001b[0;32m-> 2360\u001b[0;31m                                  (type(self).__name__, name))\n\u001b[0m\u001b[1;32m   2361\u001b[0m \u001b[0;34m\u001b[0m\u001b[0m\n\u001b[1;32m   2362\u001b[0m     \u001b[0;32mdef\u001b[0m \u001b[0m__setattr__\u001b[0m\u001b[0;34m(\u001b[0m\u001b[0mself\u001b[0m\u001b[0;34m,\u001b[0m \u001b[0mname\u001b[0m\u001b[0;34m,\u001b[0m \u001b[0mvalue\u001b[0m\u001b[0;34m)\u001b[0m\u001b[0;34m:\u001b[0m\u001b[0;34m\u001b[0m\u001b[0m\n",
      "\u001b[0;31mAttributeError\u001b[0m: 'DataFrame' object has no attribute 'ut1'"
     ]
    },
    {
     "data": {
      "image/png": "iVBORw0KGgoAAAANSUhEUgAAAW0AAAF2CAYAAAClEMl6AAAABHNCSVQICAgIfAhkiAAAAAlwSFlz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\nGG1JasRoS1IjRluSGjHaktTI/wO8DSRc2lqreAAAAABJRU5ErkJggg==\n",
      "text/plain": [
       "<matplotlib.figure.Figure at 0x9dbb7098d0>"
      ]
     },
     "metadata": {},
     "output_type": "display_data"
    }
   ],
   "source": [
    "plot = ut1.plot(kind='bar',title='Generos',figsize=(6, 6),color=('b','g'))\n",
    "dados.ut1.cat.categories = ('Masculino', 'Feminino')\n",
    "plt.ylabel('Freq.Relativa (em%)')\n",
    "plt.xlabel('')"
   ]
  },
  {
   "cell_type": "code",
   "execution_count": null,
   "metadata": {
    "collapsed": false
   },
   "outputs": [],
   "source": [
    "plot = ut1.plot(kind='pie',title='PLANOS',autopct='%.1f',figsize=(6, 6))"
   ]
  },
  {
   "cell_type": "code",
   "execution_count": 14,
   "metadata": {
    "collapsed": false
   },
   "outputs": [
    {
     "data": {
      "text/plain": [
       "<matplotlib.text.Text at 0x9db8565c88>"
      ]
     },
     "execution_count": 14,
=======
     "data": {
      "text/plain": [
       "<matplotlib.text.Text at 0xac8adde8d0>"
      ]
     },
     "execution_count": 85,
>>>>>>> 919c323f01073d30872a8e21a72cee1fd4995e4b
     "metadata": {},
     "output_type": "execute_result"
    },
    {
     "data": {
<<<<<<< HEAD
      "image/png": "iVBORw0KGgoAAAANSUhEUgAAAXwAAAGFCAYAAAD+ekgbAAAABHNCSVQICAgIfAhkiAAAAAlwSFlz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\nA4yOAAAAAElFTkSuQmCC\n",
      "text/plain": [
       "<matplotlib.figure.Figure at 0x9db85277b8>"
=======
      "image/png": "iVBORw0KGgoAAAANSUhEUgAAAXwAAAGPCAYAAABf4Wt9AAAABHNCSVQICAgIfAhkiAAAAAlwSFlz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\n",
      "text/plain": [
       "<matplotlib.figure.Figure at 0xace2e55518>"
>>>>>>> 919c323f01073d30872a8e21a72cee1fd4995e4b
      ]
     },
     "metadata": {},
     "output_type": "display_data"
    }
   ],
   "source": [
<<<<<<< HEAD
    "plot = ut2.plot(kind='bar',title='Racas',figsize=(6, 6),color=('b','g','r','black','c','y'))\n",
=======
    "plot = ut1.plot(kind='bar',title='PLANOS',figsize=(6, 6),color=('b','g'))\n",
>>>>>>> 919c323f01073d30872a8e21a72cee1fd4995e4b
    "plt.ylabel('Freq.Relativa (em%)')\n",
    "plt.xlabel('Planos')"
   ]
  },
  {
   "cell_type": "code",
<<<<<<< HEAD
   "execution_count": 15,
=======
   "execution_count": 86,
>>>>>>> 919c323f01073d30872a8e21a72cee1fd4995e4b
   "metadata": {
    "collapsed": false
   },
   "outputs": [
    {
     "data": {
<<<<<<< HEAD
      "image/png": "iVBORw0KGgoAAAANSUhEUgAAAWwAAAFsCAYAAADon4O5AAAABHNCSVQICAgIfAhkiAAAAAlwSFlz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\nYkKFLSISE/8/4O6+2QZfM68AAAAASUVORK5CYII=\n",
      "text/plain": [
       "<matplotlib.figure.Figure at 0x9db8580fd0>"
=======
      "image/png": "iVBORw0KGgoAAAANSUhEUgAAAWwAAAFsCAYAAADon4O5AAAABHNCSVQICAgIfAhkiAAAAAlwSFlz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\nYkKFLSISEypsEZGYUGGLiMTE/wfUd0e75gPBlAAAAABJRU5ErkJggg==\n",
      "text/plain": [
       "<matplotlib.figure.Figure at 0xac8a8937f0>"
>>>>>>> 919c323f01073d30872a8e21a72cee1fd4995e4b
      ]
     },
     "metadata": {},
     "output_type": "display_data"
    }
   ],
   "source": [
<<<<<<< HEAD
    "plot = ut2.plot(kind='pie',title='Racas',autopct='%.1f',figsize=(6, 6))"
   ]
  },
  {
   "cell_type": "code",
   "execution_count": 16,
   "metadata": {
    "collapsed": false
   },
   "outputs": [
    {
     "name": "stdout",
     "output_type": "stream",
     "text": [
      "Tabela Cruzada por total GERAL:\n"
     ]
    },
    {
     "data": {
      "text/html": [
       "<div>\n",
       "<table border=\"1\" class=\"dataframe\">\n",
       "  <thead>\n",
       "    <tr style=\"text-align: right;\">\n",
       "      <th>Redede Ensino</th>\n",
       "      <th>2.0</th>\n",
       "      <th>4.0</th>\n",
       "      <th>All</th>\n",
       "    </tr>\n",
       "    <tr>\n",
       "      <th>UF</th>\n",
       "      <th></th>\n",
       "      <th></th>\n",
       "      <th></th>\n",
       "    </tr>\n",
       "  </thead>\n",
       "  <tbody>\n",
       "    <tr>\n",
       "      <th>11</th>\n",
       "      <td>1785</td>\n",
       "      <td>294</td>\n",
       "      <td>7120</td>\n",
       "    </tr>\n",
       "    <tr>\n",
       "      <th>12</th>\n",
       "      <td>1446</td>\n",
       "      <td>153</td>\n",
       "      <td>4475</td>\n",
       "    </tr>\n",
       "    <tr>\n",
       "      <th>13</th>\n",
       "      <td>3764</td>\n",
       "      <td>838</td>\n",
       "      <td>13023</td>\n",
       "    </tr>\n",
       "    <tr>\n",
       "      <th>14</th>\n",
       "      <td>769</td>\n",
       "      <td>134</td>\n",
       "      <td>2767</td>\n",
       "    </tr>\n",
       "    <tr>\n",
       "      <th>15</th>\n",
       "      <td>5947</td>\n",
       "      <td>1246</td>\n",
       "      <td>22455</td>\n",
       "    </tr>\n",
       "    <tr>\n",
       "      <th>16</th>\n",
       "      <td>844</td>\n",
       "      <td>193</td>\n",
       "      <td>2890</td>\n",
       "    </tr>\n",
       "    <tr>\n",
       "      <th>17</th>\n",
       "      <td>1750</td>\n",
       "      <td>297</td>\n",
       "      <td>6457</td>\n",
       "    </tr>\n",
       "    <tr>\n",
       "      <th>21</th>\n",
       "      <td>2828</td>\n",
       "      <td>391</td>\n",
       "      <td>9270</td>\n",
       "    </tr>\n",
       "    <tr>\n",
       "      <th>22</th>\n",
       "      <td>1499</td>\n",
       "      <td>310</td>\n",
       "      <td>5592</td>\n",
       "    </tr>\n",
       "    <tr>\n",
       "      <th>23</th>\n",
       "      <td>4143</td>\n",
       "      <td>1476</td>\n",
       "      <td>19122</td>\n",
       "    </tr>\n",
       "    <tr>\n",
       "      <th>24</th>\n",
       "      <td>1123</td>\n",
       "      <td>346</td>\n",
       "      <td>5068</td>\n",
       "    </tr>\n",
       "    <tr>\n",
       "      <th>25</th>\n",
       "      <td>1331</td>\n",
       "      <td>497</td>\n",
       "      <td>6187</td>\n",
       "    </tr>\n",
       "    <tr>\n",
       "      <th>26</th>\n",
       "      <td>3855</td>\n",
       "      <td>1839</td>\n",
       "      <td>20561</td>\n",
       "    </tr>\n",
       "    <tr>\n",
       "      <th>27</th>\n",
       "      <td>1358</td>\n",
       "      <td>358</td>\n",
       "      <td>5461</td>\n",
       "    </tr>\n",
       "    <tr>\n",
       "      <th>28</th>\n",
       "      <td>1406</td>\n",
       "      <td>493</td>\n",
       "      <td>6089</td>\n",
       "    </tr>\n",
       "    <tr>\n",
       "      <th>29</th>\n",
       "      <td>5852</td>\n",
       "      <td>2243</td>\n",
       "      <td>27247</td>\n",
       "    </tr>\n",
       "    <tr>\n",
       "      <th>31</th>\n",
       "      <td>6817</td>\n",
       "      <td>2008</td>\n",
       "      <td>33137</td>\n",
       "    </tr>\n",
       "    <tr>\n",
       "      <th>32</th>\n",
       "      <td>1421</td>\n",
       "      <td>377</td>\n",
       "      <td>6737</td>\n",
       "    </tr>\n",
       "    <tr>\n",
       "      <th>33</th>\n",
       "      <td>4262</td>\n",
       "      <td>2259</td>\n",
       "      <td>25723</td>\n",
       "    </tr>\n",
       "    <tr>\n",
       "      <th>35</th>\n",
       "      <td>7398</td>\n",
       "      <td>2663</td>\n",
       "      <td>39531</td>\n",
       "    </tr>\n",
       "    <tr>\n",
       "      <th>41</th>\n",
       "      <td>3847</td>\n",
       "      <td>1177</td>\n",
       "      <td>19045</td>\n",
       "    </tr>\n",
       "    <tr>\n",
       "      <th>42</th>\n",
       "      <td>1906</td>\n",
       "      <td>693</td>\n",
       "      <td>9882</td>\n",
       "    </tr>\n",
       "    <tr>\n",
       "      <th>43</th>\n",
       "      <td>5017</td>\n",
       "      <td>1793</td>\n",
       "      <td>27189</td>\n",
       "    </tr>\n",
       "    <tr>\n",
       "      <th>50</th>\n",
       "      <td>1341</td>\n",
       "      <td>385</td>\n",
       "      <td>6327</td>\n",
       "    </tr>\n",
       "    <tr>\n",
       "      <th>51</th>\n",
       "      <td>1631</td>\n",
       "      <td>417</td>\n",
       "      <td>7148</td>\n",
       "    </tr>\n",
       "    <tr>\n",
       "      <th>52</th>\n",
       "      <td>2904</td>\n",
       "      <td>1091</td>\n",
       "      <td>14691</td>\n",
       "    </tr>\n",
       "    <tr>\n",
       "      <th>53</th>\n",
       "      <td>1711</td>\n",
       "      <td>1218</td>\n",
       "      <td>9361</td>\n",
       "    </tr>\n",
       "    <tr>\n",
       "      <th>All</th>\n",
       "      <td>77955</td>\n",
       "      <td>25189</td>\n",
       "      <td>362555</td>\n",
       "    </tr>\n",
       "  </tbody>\n",
       "</table>\n",
       "</div>"
      ],
      "text/plain": [
       "Redede Ensino    2.0    4.0     All\n",
       "UF                                 \n",
       "11              1785    294    7120\n",
       "12              1446    153    4475\n",
       "13              3764    838   13023\n",
       "14               769    134    2767\n",
       "15              5947   1246   22455\n",
       "16               844    193    2890\n",
       "17              1750    297    6457\n",
       "21              2828    391    9270\n",
       "22              1499    310    5592\n",
       "23              4143   1476   19122\n",
       "24              1123    346    5068\n",
       "25              1331    497    6187\n",
       "26              3855   1839   20561\n",
       "27              1358    358    5461\n",
       "28              1406    493    6089\n",
       "29              5852   2243   27247\n",
       "31              6817   2008   33137\n",
       "32              1421    377    6737\n",
       "33              4262   2259   25723\n",
       "35              7398   2663   39531\n",
       "41              3847   1177   19045\n",
       "42              1906    693    9882\n",
       "43              5017   1793   27189\n",
       "50              1341    385    6327\n",
       "51              1631    417    7148\n",
       "52              2904   1091   14691\n",
       "53              1711   1218    9361\n",
       "All            77955  25189  362555"
      ]
     },
     "execution_count": 16,
     "metadata": {},
     "output_type": "execute_result"
    }
   ],
   "source": [
    "print('Tabela Cruzada por total GERAL:')\n",
    "ct=pd.crosstab(dados.UF,dados.V6002,margins=True,rownames=['UF'], colnames=['Redede Ensino'])\n",
    "#ct=ct.loc[['HOMEM','MULHER','All']]\n",
    "ct1 = ct.fillna(0)\n",
    "ct1"
   ]
  },
  {
   "cell_type": "code",
   "execution_count": 17,
   "metadata": {
    "collapsed": false
   },
   "outputs": [
    {
     "data": {
      "text/plain": [
       "V0101        int64\n",
       "UF           int64\n",
       "V0102        int64\n",
       "V0103        int64\n",
       "V0301        int64\n",
       "V0302        int64\n",
       "V8005        int64\n",
       "V0404        int64\n",
       "V4011      float64\n",
       "V0412        int64\n",
       "V0501        int64\n",
       "V0502      float64\n",
       "V5030      float64\n",
       "V0504      float64\n",
       "V0505      float64\n",
       "V5061      float64\n",
       "V5062      float64\n",
       "V5063      float64\n",
       "V5064      float64\n",
       "V5065      float64\n",
       "V0601        int64\n",
       "V0602        int64\n",
       "V6002      float64\n",
       "V6020      float64\n",
       "V6003      float64\n",
       "V0606      float64\n",
       "V6007      float64\n",
       "V0611      float64\n",
       "V06111     float64\n",
       "V061111    float64\n",
       "            ...   \n",
       "V9043      float64\n",
       "V9044      float64\n",
       "V9045      float64\n",
       "V9046      float64\n",
       "V9047      float64\n",
       "V9048      float64\n",
       "V1091      float64\n",
       "V1092      float64\n",
       "V1101      float64\n",
       "V1141      float64\n",
       "V1142      float64\n",
       "V1151      float64\n",
       "V1152      float64\n",
       "V1153      float64\n",
       "V1154      float64\n",
       "V4801      float64\n",
       "V4802      float64\n",
       "V4803        int64\n",
       "V4704      float64\n",
       "V4805      float64\n",
       "V4706      float64\n",
       "V4707      float64\n",
       "V4809      float64\n",
       "V4810      float64\n",
       "V4711      float64\n",
       "V4718      float64\n",
       "V4720      float64\n",
       "V4742      float64\n",
       "V4750      float64\n",
       "V4729        int64\n",
       "dtype: object"
      ]
     },
     "execution_count": 17,
     "metadata": {},
     "output_type": "execute_result"
    }
   ],
   "source": [
    "dados.dtypes"
   ]
  },
  {
   "cell_type": "code",
   "execution_count": null,
   "metadata": {
    "collapsed": true
   },
   "outputs": [],
   "source": [
    "\n"
   ]
  },
  {
   "cell_type": "code",
   "execution_count": null,
   "metadata": {
    "collapsed": true
   },
   "outputs": [],
   "source": []
  },
  {
   "cell_type": "code",
   "execution_count": null,
   "metadata": {
    "collapsed": true
   },
   "outputs": [],
   "source": []
  },
  {
   "cell_type": "code",
   "execution_count": null,
   "metadata": {
    "collapsed": true
   },
   "outputs": [],
   "source": [
    "# Parte Carletti"
   ]
  },
  {
   "cell_type": "code",
   "execution_count": 18,
   "metadata": {
    "collapsed": false
   },
   "outputs": [
    {
     "data": {
      "text/html": [
       "<div>\n",
       "<table border=\"1\" class=\"dataframe\">\n",
       "  <thead>\n",
       "    <tr style=\"text-align: right;\">\n",
       "      <th></th>\n",
       "      <th>V6003</th>\n",
       "    </tr>\n",
       "  </thead>\n",
       "  <tbody>\n",
       "    <tr>\n",
       "      <th>1</th>\n",
       "      <td>NaN</td>\n",
       "    </tr>\n",
       "    <tr>\n",
       "      <th>2</th>\n",
       "      <td>NaN</td>\n",
       "    </tr>\n",
       "    <tr>\n",
       "      <th>3</th>\n",
       "      <td>1</td>\n",
       "    </tr>\n",
       "    <tr>\n",
       "      <th>4</th>\n",
       "      <td>NaN</td>\n",
       "    </tr>\n",
       "    <tr>\n",
       "      <th>5</th>\n",
       "      <td>5</td>\n",
       "    </tr>\n",
       "  </tbody>\n",
       "</table>\n",
       "</div>"
      ],
      "text/plain": [
       "   V6003\n",
       "1    NaN\n",
       "2    NaN\n",
       "3      1\n",
       "4    NaN\n",
       "5      5"
      ]
     },
     "execution_count": 18,
     "metadata": {},
     "output_type": "execute_result"
    }
   ],
   "source": [
    "pd.DataFrame(dados.iloc[0:5,24])"
   ]
  },
  {
   "cell_type": "code",
   "execution_count": 19,
   "metadata": {
    "collapsed": true
   },
   "outputs": [],
   "source": [
    "dados.V6003 = dados.V6003.astype('category')"
   ]
  },
  {
   "cell_type": "code",
   "execution_count": 20,
   "metadata": {
    "collapsed": false
   },
   "outputs": [
    {
     "name": "stdout",
     "output_type": "stream",
     "text": [
      "Frequências relativas por curso que frequenta:\n",
      "1     15.525\n",
      "2      4.463\n",
      "5      3.568\n",
      "7      1.797\n",
      "9      1.736\n",
      "3      0.413\n",
      "8      0.296\n",
      "4      0.275\n",
      "11     0.195\n",
      "6      0.120\n",
      "10     0.062\n",
      "dtype: float64 \n",
      "\n"
     ]
    }
   ],
   "source": [
    "print('Frequências relativas por curso que frequenta:')\n",
    "ut4 = (dados.V6003.value_counts()/n*100).round(decimals=3)\n",
    "print(ut4,'\\n')"
=======
    "plot = ut1.plot(kind='pie',title='PLANOS',autopct='%.1f',figsize=(6, 6))"
>>>>>>> 919c323f01073d30872a8e21a72cee1fd4995e4b
   ]
  },
  {
   "cell_type": "code",
<<<<<<< HEAD
   "execution_count": 21,
=======
   "execution_count": 93,
>>>>>>> 919c323f01073d30872a8e21a72cee1fd4995e4b
   "metadata": {
    "collapsed": false
   },
   "outputs": [
    {
     "data": {
      "text/plain": [
<<<<<<< HEAD
       "<matplotlib.text.Text at 0x9dbba9b518>"
      ]
     },
     "execution_count": 21,
=======
       "<matplotlib.text.Text at 0xac8a9e5da0>"
      ]
     },
     "execution_count": 93,
>>>>>>> 919c323f01073d30872a8e21a72cee1fd4995e4b
     "metadata": {},
     "output_type": "execute_result"
    },
    {
     "data": {
<<<<<<< HEAD
      "image/png": "iVBORw0KGgoAAAANSUhEUgAAAXwAAAGGCAYAAAB47jq1AAAABHNCSVQICAgIfAhkiAAAAAlwSFlz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\n",
      "text/plain": [
       "<matplotlib.figure.Figure at 0x9dbba689b0>"
=======
      "image/png": "iVBORw0KGgoAAAANSUhEUgAAAXwAAAGFCAYAAAD+ekgbAAAABHNCSVQICAgIfAhkiAAAAAlwSFlz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\n",
      "text/plain": [
       "<matplotlib.figure.Figure at 0xac8a9fc1d0>"
>>>>>>> 919c323f01073d30872a8e21a72cee1fd4995e4b
      ]
     },
     "metadata": {},
     "output_type": "display_data"
    }
   ],
   "source": [
<<<<<<< HEAD
    "plot = ut4.plot(kind='bar',title='Cursos',figsize=(6, 6),color=('b','g'))\n",
    "plt.ylabel('Freq.Relativa (em%)')\n",
    "plt.xlabel('')"
=======
    "plot = ut2.plot(kind='bar',title='PLANOS',figsize=(6, 6),color=('b','g','r','black','c','y'))\n",
    "plt.ylabel('Freq.Relativa (em%)')\n",
    "plt.xlabel('Planos')"
>>>>>>> 919c323f01073d30872a8e21a72cee1fd4995e4b
   ]
  },
  {
   "cell_type": "code",
<<<<<<< HEAD
   "execution_count": 22,
=======
   "execution_count": 91,
>>>>>>> 919c323f01073d30872a8e21a72cee1fd4995e4b
   "metadata": {
    "collapsed": false
   },
   "outputs": [
    {
     "data": {
<<<<<<< HEAD
      "image/png": "iVBORw0KGgoAAAANSUhEUgAAAdsAAAHbCAYAAACDejA0AAAABHNCSVQICAgIfAhkiAAAAAlwSFlz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\nSinlsP8HIfrUoOm9Qz8AAAAASUVORK5CYII=\n",
      "text/plain": [
       "<matplotlib.figure.Figure at 0x9dbbad02e8>"
=======
      "image/png": "iVBORw0KGgoAAAANSUhEUgAAAWwAAAFsCAYAAADon4O5AAAABHNCSVQICAgIfAhkiAAAAAlwSFlz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\nW0QkJlTYIiIx8f8BhNPfL+uKLDUAAAAASUVORK5CYII=\n",
      "text/plain": [
       "<matplotlib.figure.Figure at 0xac8a9276a0>"
>>>>>>> 919c323f01073d30872a8e21a72cee1fd4995e4b
      ]
     },
     "metadata": {},
     "output_type": "display_data"
    }
   ],
   "source": [
<<<<<<< HEAD
    "plot = ut4.plot(kind='pie',title='Cursos',autopct='%.1f',figsize=(8, 8))\n"
   ]
  },
  {
   "cell_type": "code",
   "execution_count": 23,
   "metadata": {
    "collapsed": false
   },
   "outputs": [
    {
     "name": "stdout",
     "output_type": "stream",
     "text": [
      "Tabela Cruzada CURSO x ESTADO:\n"
     ]
    },
    {
     "data": {
      "text/html": [
       "<div>\n",
       "<table border=\"1\" class=\"dataframe\">\n",
       "  <thead>\n",
       "    <tr style=\"text-align: right;\">\n",
       "      <th>V6003</th>\n",
       "      <th>1.0</th>\n",
       "      <th>2.0</th>\n",
       "      <th>3.0</th>\n",
       "      <th>4.0</th>\n",
       "      <th>5.0</th>\n",
       "      <th>6.0</th>\n",
       "      <th>7.0</th>\n",
       "      <th>8.0</th>\n",
       "      <th>9.0</th>\n",
       "      <th>10.0</th>\n",
       "      <th>11.0</th>\n",
       "    </tr>\n",
       "    <tr>\n",
       "      <th>UF</th>\n",
       "      <th></th>\n",
       "      <th></th>\n",
       "      <th></th>\n",
       "      <th></th>\n",
       "      <th></th>\n",
       "      <th></th>\n",
       "      <th></th>\n",
       "      <th></th>\n",
       "      <th></th>\n",
       "      <th></th>\n",
       "      <th></th>\n",
       "    </tr>\n",
       "  </thead>\n",
       "  <tbody>\n",
       "    <tr>\n",
       "      <th>11</th>\n",
       "      <td>1242</td>\n",
       "      <td>331</td>\n",
       "      <td>43</td>\n",
       "      <td>41</td>\n",
       "      <td>221</td>\n",
       "      <td>5</td>\n",
       "      <td>67</td>\n",
       "      <td>19</td>\n",
       "      <td>101</td>\n",
       "      <td>1</td>\n",
       "      <td>8</td>\n",
       "    </tr>\n",
       "    <tr>\n",
       "      <th>12</th>\n",
       "      <td>948</td>\n",
       "      <td>203</td>\n",
       "      <td>65</td>\n",
       "      <td>38</td>\n",
       "      <td>162</td>\n",
       "      <td>11</td>\n",
       "      <td>56</td>\n",
       "      <td>26</td>\n",
       "      <td>84</td>\n",
       "      <td>0</td>\n",
       "      <td>6</td>\n",
       "    </tr>\n",
       "    <tr>\n",
       "      <th>13</th>\n",
       "      <td>2722</td>\n",
       "      <td>693</td>\n",
       "      <td>96</td>\n",
       "      <td>42</td>\n",
       "      <td>547</td>\n",
       "      <td>11</td>\n",
       "      <td>123</td>\n",
       "      <td>80</td>\n",
       "      <td>271</td>\n",
       "      <td>3</td>\n",
       "      <td>14</td>\n",
       "    </tr>\n",
       "    <tr>\n",
       "      <th>14</th>\n",
       "      <td>487</td>\n",
       "      <td>139</td>\n",
       "      <td>19</td>\n",
       "      <td>9</td>\n",
       "      <td>128</td>\n",
       "      <td>2</td>\n",
       "      <td>48</td>\n",
       "      <td>16</td>\n",
       "      <td>47</td>\n",
       "      <td>2</td>\n",
       "      <td>6</td>\n",
       "    </tr>\n",
       "    <tr>\n",
       "      <th>15</th>\n",
       "      <td>4313</td>\n",
       "      <td>1140</td>\n",
       "      <td>161</td>\n",
       "      <td>64</td>\n",
       "      <td>586</td>\n",
       "      <td>12</td>\n",
       "      <td>296</td>\n",
       "      <td>51</td>\n",
       "      <td>501</td>\n",
       "      <td>41</td>\n",
       "      <td>28</td>\n",
       "    </tr>\n",
       "    <tr>\n",
       "      <th>16</th>\n",
       "      <td>594</td>\n",
       "      <td>156</td>\n",
       "      <td>17</td>\n",
       "      <td>7</td>\n",
       "      <td>144</td>\n",
       "      <td>6</td>\n",
       "      <td>35</td>\n",
       "      <td>13</td>\n",
       "      <td>48</td>\n",
       "      <td>6</td>\n",
       "      <td>11</td>\n",
       "    </tr>\n",
       "    <tr>\n",
       "      <th>17</th>\n",
       "      <td>1176</td>\n",
       "      <td>393</td>\n",
       "      <td>32</td>\n",
       "      <td>7</td>\n",
       "      <td>223</td>\n",
       "      <td>2</td>\n",
       "      <td>82</td>\n",
       "      <td>33</td>\n",
       "      <td>93</td>\n",
       "      <td>0</td>\n",
       "      <td>6</td>\n",
       "    </tr>\n",
       "    <tr>\n",
       "      <th>21</th>\n",
       "      <td>1903</td>\n",
       "      <td>543</td>\n",
       "      <td>51</td>\n",
       "      <td>8</td>\n",
       "      <td>195</td>\n",
       "      <td>33</td>\n",
       "      <td>190</td>\n",
       "      <td>22</td>\n",
       "      <td>264</td>\n",
       "      <td>2</td>\n",
       "      <td>8</td>\n",
       "    </tr>\n",
       "    <tr>\n",
       "      <th>22</th>\n",
       "      <td>1038</td>\n",
       "      <td>260</td>\n",
       "      <td>32</td>\n",
       "      <td>15</td>\n",
       "      <td>182</td>\n",
       "      <td>18</td>\n",
       "      <td>120</td>\n",
       "      <td>8</td>\n",
       "      <td>125</td>\n",
       "      <td>4</td>\n",
       "      <td>7</td>\n",
       "    </tr>\n",
       "    <tr>\n",
       "      <th>23</th>\n",
       "      <td>3072</td>\n",
       "      <td>894</td>\n",
       "      <td>89</td>\n",
       "      <td>48</td>\n",
       "      <td>635</td>\n",
       "      <td>37</td>\n",
       "      <td>356</td>\n",
       "      <td>34</td>\n",
       "      <td>414</td>\n",
       "      <td>7</td>\n",
       "      <td>33</td>\n",
       "    </tr>\n",
       "    <tr>\n",
       "      <th>24</th>\n",
       "      <td>788</td>\n",
       "      <td>204</td>\n",
       "      <td>36</td>\n",
       "      <td>10</td>\n",
       "      <td>175</td>\n",
       "      <td>19</td>\n",
       "      <td>116</td>\n",
       "      <td>14</td>\n",
       "      <td>95</td>\n",
       "      <td>2</td>\n",
       "      <td>10</td>\n",
       "    </tr>\n",
       "    <tr>\n",
       "      <th>25</th>\n",
       "      <td>993</td>\n",
       "      <td>245</td>\n",
       "      <td>45</td>\n",
       "      <td>11</td>\n",
       "      <td>245</td>\n",
       "      <td>16</td>\n",
       "      <td>97</td>\n",
       "      <td>15</td>\n",
       "      <td>143</td>\n",
       "      <td>2</td>\n",
       "      <td>16</td>\n",
       "    </tr>\n",
       "    <tr>\n",
       "      <th>26</th>\n",
       "      <td>3059</td>\n",
       "      <td>914</td>\n",
       "      <td>101</td>\n",
       "      <td>80</td>\n",
       "      <td>666</td>\n",
       "      <td>25</td>\n",
       "      <td>375</td>\n",
       "      <td>79</td>\n",
       "      <td>340</td>\n",
       "      <td>3</td>\n",
       "      <td>52</td>\n",
       "    </tr>\n",
       "    <tr>\n",
       "      <th>27</th>\n",
       "      <td>1043</td>\n",
       "      <td>214</td>\n",
       "      <td>38</td>\n",
       "      <td>6</td>\n",
       "      <td>165</td>\n",
       "      <td>9</td>\n",
       "      <td>95</td>\n",
       "      <td>19</td>\n",
       "      <td>115</td>\n",
       "      <td>6</td>\n",
       "      <td>6</td>\n",
       "    </tr>\n",
       "    <tr>\n",
       "      <th>28</th>\n",
       "      <td>1056</td>\n",
       "      <td>266</td>\n",
       "      <td>40</td>\n",
       "      <td>15</td>\n",
       "      <td>223</td>\n",
       "      <td>8</td>\n",
       "      <td>94</td>\n",
       "      <td>39</td>\n",
       "      <td>149</td>\n",
       "      <td>2</td>\n",
       "      <td>7</td>\n",
       "    </tr>\n",
       "    <tr>\n",
       "      <th>29</th>\n",
       "      <td>4663</td>\n",
       "      <td>1202</td>\n",
       "      <td>137</td>\n",
       "      <td>69</td>\n",
       "      <td>764</td>\n",
       "      <td>62</td>\n",
       "      <td>446</td>\n",
       "      <td>141</td>\n",
       "      <td>537</td>\n",
       "      <td>25</td>\n",
       "      <td>49</td>\n",
       "    </tr>\n",
       "    <tr>\n",
       "      <th>31</th>\n",
       "      <td>4705</td>\n",
       "      <td>1450</td>\n",
       "      <td>97</td>\n",
       "      <td>121</td>\n",
       "      <td>1156</td>\n",
       "      <td>44</td>\n",
       "      <td>589</td>\n",
       "      <td>29</td>\n",
       "      <td>546</td>\n",
       "      <td>26</td>\n",
       "      <td>62</td>\n",
       "    </tr>\n",
       "    <tr>\n",
       "      <th>32</th>\n",
       "      <td>972</td>\n",
       "      <td>260</td>\n",
       "      <td>15</td>\n",
       "      <td>12</td>\n",
       "      <td>248</td>\n",
       "      <td>4</td>\n",
       "      <td>149</td>\n",
       "      <td>23</td>\n",
       "      <td>101</td>\n",
       "      <td>3</td>\n",
       "      <td>11</td>\n",
       "    </tr>\n",
       "    <tr>\n",
       "      <th>33</th>\n",
       "      <td>3487</td>\n",
       "      <td>1055</td>\n",
       "      <td>52</td>\n",
       "      <td>43</td>\n",
       "      <td>791</td>\n",
       "      <td>19</td>\n",
       "      <td>451</td>\n",
       "      <td>167</td>\n",
       "      <td>395</td>\n",
       "      <td>10</td>\n",
       "      <td>51</td>\n",
       "    </tr>\n",
       "    <tr>\n",
       "      <th>35</th>\n",
       "      <td>5089</td>\n",
       "      <td>1695</td>\n",
       "      <td>59</td>\n",
       "      <td>77</td>\n",
       "      <td>1387</td>\n",
       "      <td>15</td>\n",
       "      <td>932</td>\n",
       "      <td>63</td>\n",
       "      <td>614</td>\n",
       "      <td>29</td>\n",
       "      <td>101</td>\n",
       "    </tr>\n",
       "    <tr>\n",
       "      <th>41</th>\n",
       "      <td>2565</td>\n",
       "      <td>784</td>\n",
       "      <td>66</td>\n",
       "      <td>73</td>\n",
       "      <td>750</td>\n",
       "      <td>23</td>\n",
       "      <td>448</td>\n",
       "      <td>29</td>\n",
       "      <td>230</td>\n",
       "      <td>12</td>\n",
       "      <td>44</td>\n",
       "    </tr>\n",
       "    <tr>\n",
       "      <th>42</th>\n",
       "      <td>1253</td>\n",
       "      <td>412</td>\n",
       "      <td>19</td>\n",
       "      <td>24</td>\n",
       "      <td>459</td>\n",
       "      <td>7</td>\n",
       "      <td>246</td>\n",
       "      <td>11</td>\n",
       "      <td>141</td>\n",
       "      <td>2</td>\n",
       "      <td>25</td>\n",
       "    </tr>\n",
       "    <tr>\n",
       "      <th>43</th>\n",
       "      <td>3609</td>\n",
       "      <td>1044</td>\n",
       "      <td>59</td>\n",
       "      <td>65</td>\n",
       "      <td>1052</td>\n",
       "      <td>21</td>\n",
       "      <td>523</td>\n",
       "      <td>28</td>\n",
       "      <td>323</td>\n",
       "      <td>16</td>\n",
       "      <td>70</td>\n",
       "    </tr>\n",
       "    <tr>\n",
       "      <th>50</th>\n",
       "      <td>918</td>\n",
       "      <td>226</td>\n",
       "      <td>28</td>\n",
       "      <td>20</td>\n",
       "      <td>278</td>\n",
       "      <td>5</td>\n",
       "      <td>124</td>\n",
       "      <td>24</td>\n",
       "      <td>88</td>\n",
       "      <td>1</td>\n",
       "      <td>14</td>\n",
       "    </tr>\n",
       "    <tr>\n",
       "      <th>51</th>\n",
       "      <td>1012</td>\n",
       "      <td>377</td>\n",
       "      <td>34</td>\n",
       "      <td>31</td>\n",
       "      <td>306</td>\n",
       "      <td>7</td>\n",
       "      <td>120</td>\n",
       "      <td>33</td>\n",
       "      <td>109</td>\n",
       "      <td>5</td>\n",
       "      <td>14</td>\n",
       "    </tr>\n",
       "    <tr>\n",
       "      <th>52</th>\n",
       "      <td>2155</td>\n",
       "      <td>687</td>\n",
       "      <td>35</td>\n",
       "      <td>19</td>\n",
       "      <td>606</td>\n",
       "      <td>8</td>\n",
       "      <td>177</td>\n",
       "      <td>35</td>\n",
       "      <td>247</td>\n",
       "      <td>9</td>\n",
       "      <td>17</td>\n",
       "    </tr>\n",
       "    <tr>\n",
       "      <th>53</th>\n",
       "      <td>1423</td>\n",
       "      <td>395</td>\n",
       "      <td>30</td>\n",
       "      <td>42</td>\n",
       "      <td>642</td>\n",
       "      <td>6</td>\n",
       "      <td>160</td>\n",
       "      <td>22</td>\n",
       "      <td>172</td>\n",
       "      <td>5</td>\n",
       "      <td>32</td>\n",
       "    </tr>\n",
       "  </tbody>\n",
       "</table>\n",
       "</div>"
      ],
      "text/plain": [
       "V6003    1     2    3    4     5   6    7    8    9   10   11\n",
       "UF                                                           \n",
       "11     1242   331   43   41   221   5   67   19  101   1    8\n",
       "12      948   203   65   38   162  11   56   26   84   0    6\n",
       "13     2722   693   96   42   547  11  123   80  271   3   14\n",
       "14      487   139   19    9   128   2   48   16   47   2    6\n",
       "15     4313  1140  161   64   586  12  296   51  501  41   28\n",
       "16      594   156   17    7   144   6   35   13   48   6   11\n",
       "17     1176   393   32    7   223   2   82   33   93   0    6\n",
       "21     1903   543   51    8   195  33  190   22  264   2    8\n",
       "22     1038   260   32   15   182  18  120    8  125   4    7\n",
       "23     3072   894   89   48   635  37  356   34  414   7   33\n",
       "24      788   204   36   10   175  19  116   14   95   2   10\n",
       "25      993   245   45   11   245  16   97   15  143   2   16\n",
       "26     3059   914  101   80   666  25  375   79  340   3   52\n",
       "27     1043   214   38    6   165   9   95   19  115   6    6\n",
       "28     1056   266   40   15   223   8   94   39  149   2    7\n",
       "29     4663  1202  137   69   764  62  446  141  537  25   49\n",
       "31     4705  1450   97  121  1156  44  589   29  546  26   62\n",
       "32      972   260   15   12   248   4  149   23  101   3   11\n",
       "33     3487  1055   52   43   791  19  451  167  395  10   51\n",
       "35     5089  1695   59   77  1387  15  932   63  614  29  101\n",
       "41     2565   784   66   73   750  23  448   29  230  12   44\n",
       "42     1253   412   19   24   459   7  246   11  141   2   25\n",
       "43     3609  1044   59   65  1052  21  523   28  323  16   70\n",
       "50      918   226   28   20   278   5  124   24   88   1   14\n",
       "51     1012   377   34   31   306   7  120   33  109   5   14\n",
       "52     2155   687   35   19   606   8  177   35  247   9   17\n",
       "53     1423   395   30   42   642   6  160   22  172   5   32"
      ]
     },
     "execution_count": 23,
     "metadata": {},
     "output_type": "execute_result"
    }
   ],
   "source": [
    "print('Tabela Cruzada CURSO x ESTADO:')\n",
    "c2t=pd.crosstab(dados.UF,dados.V6003)\n",
    "c2t"
=======
    "plot = ut2.plot(kind='pie',title='PLANOS',autopct='%.1f',figsize=(6, 6))"
>>>>>>> 919c323f01073d30872a8e21a72cee1fd4995e4b
   ]
  },
  {
   "cell_type": "code",
   "execution_count": null,
   "metadata": {
    "collapsed": true
   },
   "outputs": [],
   "source": []
  }
 ],
 "metadata": {
  "anaconda-cloud": {},
  "kernelspec": {
   "display_name": "Python 3",
   "language": "python",
   "name": "python3"
  },
  "language_info": {
   "codemirror_mode": {
    "name": "ipython",
    "version": 3
   },
   "file_extension": ".py",
   "mimetype": "text/x-python",
   "name": "python",
   "nbconvert_exporter": "python",
   "pygments_lexer": "ipython3",
   "version": "3.5.2"
  }
 },
 "nbformat": 4,
 "nbformat_minor": 0
}
