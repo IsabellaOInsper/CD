{
 "cells": [
  {
   "cell_type": "markdown",
   "metadata": {},
   "source": [
    "___\n",
    "# Atividade: Modelos probabilísticos discretos e Dados\n",
    "___\n",
    "\n",
    "## Aula 10\n",
    "\n",
    "**Referência de Leitura:**\n",
    "1. Magalhães e Lima (7ª. Edição): Seções 3.2 e 3.3\n",
    "\n",
    "**Hoje:**\n",
    "1.\tDescrever modelos discretos quanto aos resultados teóricos.\n",
    "2.\tExplicar a utilização de modelos probabilísticos no contexto da literatura estatística.\n",
    "3.\tContrastar resultados teóricos e empíricos.\n",
    "4.\tFechamento do conteúdo.\n",
    "\n",
    "**Próxima aula:**\n",
    "1. Leitura prévia necessária: Magalhães e Lima (7ª. Edição): Seção 5.1 (pág. 137) e Seção 5.2 (pág. 146).\n",
    "___"
   ]
  },
  {
   "cell_type": "code",
   "execution_count": 46,
   "metadata": {
    "collapsed": true
   },
   "outputs": [],
   "source": [
    "%matplotlib inline\n",
    "import pandas as pd\n",
    "import matplotlib.pyplot as plt\n",
    "\n",
    "from scipy import stats #importa apenas as funções de estatísticas da biblioteca SciPy.\n",
    "import itertools #importante para gerar todos os resultados possíveis!!\n"
   ]
  },
  {
   "cell_type": "markdown",
   "metadata": {},
   "source": [
    "___\n",
    "## <font color='blue'>Exercício 1</font>\n",
    "\n",
    "Um resistor de 100K Ohms comprado na Santa Efigênia tem probabilidade de falha de 5%, segundo um fabricante ruim.\n",
    "\n",
    "Ainda, assuma os resistores falham de forma independente entre si.\n",
    "\n",
    "Um aluno de engenharia compra um pacote contendo $n$ resistores.\n",
    "\n",
    "1. Assuma $n=3$ e faça os itens a seguir.\n",
    "  1. Monte o espaço amostral que combine todos os resultados possíveis de Falha e não Falha desses $n$ resistores. Ainda, calcule a probabilidade de cada resultado do espaço amostral acontecer.\n",
    "  2. Se $Y$ representa o número de resistores que falham em um pacotinho com $n$ resistores, então construa a distribuição de probabilidades de $Y$.\n",
    "  3. Calcule a média e o desvio padrão de $Y$. Interprete os resultados.\n",
    "    \n",
    "2. Assuma $n=7$ e repita os itens A) a C) anteriores. No caso de $n=7$ ou maiores quantidades de resistores em um pacotinho, qual a viabilidade de construir a distribuição de probabilidades do número de resistores com defeitos quando $n$ não é pequeno?\n",
    "    \n",
    "3. Encontre a distribuição de probabilidades de cada possível valor de $Y$ utilizando a distribuição Binomial para $n=3$ e $n=7$. Calcule também $E(X)$ e $Var(X)$. Compare com as distribuições de probabilidades obtidas nos itens anteriores e discuta porque esses valores são iguais ou diferentes!\n",
    "    \n",
    "> **DISTRIBUIÇÃO BINOMIAL - TEORIA:**\n",
    "\n",
    "> É responsável por modelar uma variável $Y$ definida pelo Número de sucessos em $n$ tentativas, cuja probabilidade de sucesso é dada por $p$. Assim, dizemos que $Y$~$Bin(n,p)$ e lê-se: $Y$ segue uma distribuição binomial com $n$ tentativas e $p$ como probabilidade de sucesso. \n",
    "\n",
    "> A função de probabilidade nesse caso é dada por:\n",
    "$P(Y=y)=\\left(\n",
    "\\begin{array}{c}\n",
    "    n \\\\\n",
    "    y\n",
    "\\end{array}\\right) p^y (1-p)^{(n-y)}$\n",
    "\n",
    "> Para um experimento ter as probabilidade dos números de sucessos modeladas por uma distribuição Binomial, o mesmo precisa ter as seguintes propriedades:\n",
    "* é uma contagem de $n$ repetições (ou tentativas ou ensaios) idênticas;\n",
    "* cada repetição tem apenas 2 resultados possíveis: um é denominado sucesso e o outro, fracasso;\n",
    "* a probabilidade de sucesso para cada ensaio é denominada $p$ e será constante em cada repetição. Então, a probabilidade de fracasso $(1-p)$ também não varia de tentativa para tentativa;\n",
    "* As tentativas são independentes.\n",
    "\n",
    "\n",
    "> **DISTRIBUIÇÃO BINOMIAL - PYTHON:** <sup> [https://en.wikipedia.org/wiki/SciPy]\n",
    "\n",
    "> Algumas funções úteis para desenvolver seu código: <sup> [http://docs.scipy.org/doc/scipy-0.16.1/reference/generated/scipy.stats.binom.html]\n",
    "* $P(Y=y)$: `stats.binom.pmf(y, n, p)`\n",
    "* $P(Y\\leq y)$: `stats.binom.cdf(y, n, p)`\n",
    "* $E(X)$ e $Var(X)$: `stats.binom.stats(n, p, moments='mv')`\n"
   ]
  },
  {
   "cell_type": "code",
   "execution_count": 47,
   "metadata": {
    "collapsed": true
   },
   "outputs": [],
   "source": [
    "#item 1\n",
    "n=3\n",
    "#item 2\n",
    "#n=7"
   ]
  },
  {
   "cell_type": "code",
   "execution_count": 48,
   "metadata": {
    "collapsed": false
   },
   "outputs": [
    {
     "name": "stdout",
     "output_type": "stream",
     "text": [
      "[('F', 'F', 'F'), ('F', 'F', 'N'), ('F', 'N', 'F'), ('F', 'N', 'N'), ('N', 'F', 'F'), ('N', 'F', 'N'), ('N', 'N', 'F'), ('N', 'N', 'N')]\n",
      "[0.00012500000000000003, 0.0023750000000000004, 0.0023750000000000004, 0.045125, 0.0023750000000000004, 0.045125, 0.045125, 0.8573749999999999]\n"
     ]
    }
   ],
   "source": [
    "import itertools\n",
    "\n",
    "#Ex A\n",
    "possibilidades = [\"F\", \"N\"]\n",
    "probabilidades = {\"F\": 0.05, \"N\":0.95}\n",
    "arranjos = itertools.product(possibilidades, repeat=n)\n",
    "espaco_amostral = list(arranjos)\n",
    "probabilidades_linhas = []\n",
    "\n",
    "for res in espaco_amostral:\n",
    "    p = 1.0\n",
    "    for e in res:\n",
    "        p*=probabilidades[e]\n",
    "    probabilidades_linhas.append(p)\n",
    "\n",
    "print(espaco_amostral)\n",
    "print(probabilidades_linhas)"
   ]
  },
  {
   "cell_type": "code",
   "execution_count": 49,
   "metadata": {
    "collapsed": false
   },
   "outputs": [
    {
     "data": {
      "text/plain": [
       "{0: 0.8573749999999999,\n",
       " 1: 0.135375,\n",
       " 2: 0.007125000000000001,\n",
       " 3: 0.00012500000000000003}"
      ]
     },
     "execution_count": 49,
     "metadata": {},
     "output_type": "execute_result"
    }
   ],
   "source": [
    "#Ex B\n",
    "valores_X = {}\n",
    "for i in range(len(espaco_amostral)):\n",
    "    falha = espaco_amostral[i].count(\"F\")\n",
    "    # Checar antes se a chave está no dicionário\n",
    "    if falha in valores_X:\n",
    "        valores_X[falha] += probabilidades_linhas[i]\n",
    "    else:\n",
    "        valores_X[falha] = probabilidades_linhas[i]\n",
    "\n",
    "valores_X"
   ]
  },
  {
   "cell_type": "code",
   "execution_count": null,
   "metadata": {
    "collapsed": true
   },
   "outputs": [],
   "source": []
  },
  {
   "cell_type": "markdown",
   "metadata": {
    "collapsed": true
   },
   "source": [
    "___\n",
    "## <font color='blue'>Exercício 2</font>\n",
    "\n",
    "Uma fábrica produz determinado veículo. O gerente de vendas fechou um negócio que implica na produção de pelo menos 110 unidades nos próximos dois meses. Para isso, será construída uma nova linha de montagem com capacidade para produzir em média 50 veículos por mês (considere meses de 30 dias). A linha funcionará ininterruptamente. Além disso, apenas um veículo é produzido por vez. Considere que um modelo Poisson seja adequado para a quantidade de veículos produzidos.\n",
    "   1. Qual a probabilidade  da produção ser igual a 100 veículos nos próximos dois meses?\n",
    "   2. Qual a probabilidade  da produção ser de pelo menos 100 veículos nos próximos dois meses?\n",
    "   3. Qual a probabilidade da produção ser entre 100 e 110 veículos nos próximos dois meses?\n",
    "   4. Se forem produzidos de pelo menos 100 veículos no próximo mês, qual a probabilidade do gerente cumprir a meta negociada?\n",
    "   5. Caso o prazo seja cumprido, o lucro será da ordem de $250$ mil, caso não seja, o lucro cai para $200$ mil. Qual é o lucro esperado e seu desvio-padrão?\n",
    "\n",
    "**Observação:** Explore os comandos de `stats.poisson`. <sup>[http://docs.scipy.org/doc/scipy/reference/generated/scipy.stats.poisson.html]\n"
   ]
  },
  {
   "cell_type": "code",
   "execution_count": null,
   "metadata": {
    "collapsed": true
   },
   "outputs": [],
   "source": []
  },
  {
   "cell_type": "markdown",
   "metadata": {},
   "source": [
    "___\n",
    "## <font color='blue'>Exercício 3</font> \n",
    "### <font color='red'>**Check para dia 13/09 em DUPLA **</font>\n",
    "\n",
    "Esse exercício irá explorar uma modelagem de dados reais.\n",
    "\n",
    "> **Confira alguns itens obrigatórios verificados durante a vistoria do Detran**\n",
    "\n",
    "> *Todos os veículos, novos ou velhos, precisam passar por uma vistoria todos os anos. (...) O motorista precisa estar atento a alguns itens obrigatórios. Tudo deve funcionar perfeitamente, apresentar bom estado de conservação e estar dentro do prazo de validade.*\n",
    "\n",
    "> <sup>Fonte: http://extra.globo.com/noticias/brasil/transito-seguro/confira-alguns-itens-obrigatorios-verificados-durante-vistoria-do-detran-10190355.html</sup>\n",
    "\n",
    "Essa matéria lista 14 itens que são inspecionados pelo Detran, dentre os quais têm-se: extintor de incêndio deve estar dentro do prazo de validade; pneus devem estar em bom estado de conservação; buzina deve funcionar perfeitamente; e cintos de segurança para todos os ocupantes do carro. Se, no final das contas, todos os 14 itens estiverem funcionando perfeitamente, o motorista irá feliz para casa assegurado de que seu carro está sem problemas com a vistoria.\n",
    "\n",
    "1. A base de dados `Carros.txt` apresenta, para cada um dos três mil carros de passeio vistoriados, duas informações: tipo de carro (1: Popular e 2: Não Popular) e quantidade de itens vistoriados em não conformidade (que pode variar de 0 a 14). \n",
    "    1. Considerando todos os carros, analise a quantidade de itens vistoriados em não conformidade. Pela tabela de frequências relativas, calcule a média e variância dessa quantidade. Interprete-os.\n",
    "    2. Assuma que a variável *Quantidade de itens em não conformidade* possa ser ajustada pelo modelo Binomial com parâmetros $n=14$ e $p=0,10$. Interprete esses parâmetros para o problema em questão e, ainda, discuta se as propriedades da distribuição Binomial estão satisfeitas para o problema aqui me questão.\n",
    "    \n",
    "    **Independente da sua resposta anterior, considere que a distribuição binomial seja adequada para modelar a variável de interesse nos próximos itens!**\n",
    "    3. Utilizando o método `stats.binom.pmf`, obtenha a probabilidade de cada uma das quantidades de itens em não conformidade quando $n=14$ e $p=0,10$. Calcule o valor esperado e a variância da quantidade de itens em não conformidade utilizando o método `stats.binom.stats` e via resultado da Tabela 4.4 do Magalhães e Lima (pág. 125).\n",
    "    4. Compare as probabilidades teóricas com as frequências relativas observadas nos dados. Para isso, tem-se, por exemplo, as duas opções abaixo para comparar se os resultados empíricos se encaixam com o modelo teórico proposto. \n",
    "        - A primeira opção gráfica contrasta a frequência relativa e a probabilidade teórica para uma determinada quantidade de itens em não conformidade! Vide Figura 3.4 do livro Magalhães e Lima (pág. 87). Ou seja, essa opção contrasta a frequência relativa em um valor de $y$ e a probabilidade pontual $P(Y=y)$.\n",
    "        - A segunda contrasta a frequência relativa acumulada com a probabilidade acumulada até determinada quantidade de itens em não conformidade. Ou seja, compara a frequência relativa acumulada até $y$ com a probabilidade acumulada $P(Y\\leq y)$.\n",
    "    Construa os gráficos de acordo com as duas opções e refine sua conclusão quanto ao uso do modelo teórico para ajustar a variável em questão!\n",
    "    5. Na prática, qual a necessidade de um modelo probabilístico já que se têm os dados observados?\n",
    "    6. Considerando apenas os carros populares, o modelo Binomial com parâmetros $n=14$ e $p=0,10$ é adequado para ajustar a variável Quantidade de itens em não conformidade? Se sim, justifique; caso não, sugira novos valores para os parâmetros da distribuição ajuste aos dados."
   ]
  },
  {
   "cell_type": "code",
   "execution_count": 50,
   "metadata": {
    "collapsed": false
   },
   "outputs": [
    {
     "name": "stdout",
     "output_type": "stream",
     "text": [
      "Esperamos trabalhar no diretório\n",
      "C:\\Users\\Isabella\\Documents\\GitHub\\CD\\aula10\n"
     ]
    }
   ],
   "source": [
    "import os\n",
    "print('Esperamos trabalhar no diretório')\n",
    "print(os.getcwd())\n",
    "carros = pd.read_table('Carros.txt', sep=' ')"
   ]
  },
  {
   "cell_type": "code",
   "execution_count": 77,
   "metadata": {
    "collapsed": false
   },
   "outputs": [
    {
     "data": {
      "text/plain": [
       "1    31.666667\n",
       "0    28.800000\n",
       "2    22.133333\n",
       "3    10.833333\n",
       "4     4.633333\n",
       "5     1.566667\n",
       "6     0.266667\n",
       "7     0.066667\n",
       "8     0.033333\n",
       "Name: Quantidade, dtype: float64"
      ]
     },
     "execution_count": 77,
     "metadata": {},
     "output_type": "execute_result"
    }
   ],
   "source": [
    "# A frequência relativa\n",
    "frequenciar = carros.Quantidade.value_counts(True) * 100\n",
    "frequenciar"
   ]
  },
  {
   "cell_type": "code",
   "execution_count": 52,
   "metadata": {
    "collapsed": false
   },
   "outputs": [
    {
     "data": {
      "text/plain": [
       "count    3000.000000\n",
       "mean        1.371333\n",
       "std         1.256969\n",
       "min         0.000000\n",
       "25%         0.000000\n",
       "50%         1.000000\n",
       "75%         2.000000\n",
       "max         8.000000\n",
       "Name: Quantidade, dtype: float64"
      ]
     },
     "execution_count": 52,
     "metadata": {},
     "output_type": "execute_result"
    }
   ],
   "source": [
    "carros.Quantidade.describe()"
   ]
  },
  {
   "cell_type": "code",
   "execution_count": 53,
   "metadata": {
    "collapsed": false
   },
   "outputs": [
    {
     "data": {
      "text/plain": [
       "1.3713333333333333"
      ]
     },
     "execution_count": 53,
     "metadata": {},
     "output_type": "execute_result"
    }
   ],
   "source": [
    "# A média\n",
    "tamanho = carros.shape\n",
    "count = tamanho[0]\n",
    "media = sum(carros.Quantidade)/count\n",
    "media"
   ]
  },
  {
   "cell_type": "code",
   "execution_count": 54,
   "metadata": {
    "collapsed": false
   },
   "outputs": [
    {
     "data": {
      "text/plain": [
       "1.5799715460709343"
      ]
     },
     "execution_count": 54,
     "metadata": {},
     "output_type": "execute_result"
    }
   ],
   "source": [
    "# A variância\n",
    "variancia = carros.Quantidade.var()\n",
    "variancia"
   ]
  },
  {
   "cell_type": "markdown",
   "metadata": {},
   "source": [
    "Com os dados acima, podemos perceber que a média é de 1.37 itens vistoriados em não conformidade por carro que passou pela vistoria. Um número não muito alto, pouco mais de 1 item por carro não está conforme o previsto nas novas regras do Detran.\n",
    "A variância nos mostra o quanto os dados \"números de itens vistoriados em não conformidade\" estão afastados de seu valor esperado/esperança, ou seja, o \"quão longe\" os números estão da média. O resultado obtido foi 1.57, um valor não muito alto, indicando que eles estão mais do que 1 item de distância do esperado, porém menos do que 2."
   ]
  },
  {
   "cell_type": "code",
   "execution_count": 61,
   "metadata": {
    "collapsed": false
   },
   "outputs": [],
   "source": [
    "#B\n",
    "p = 0.1 #probabilidade de dar não conformidade\n",
    "n = 14 #tentativas/ itens vistoriados\n",
    "import itertools\n",
    "\n",
    "#Ex A\n",
    "possibilidades = [\"C\", \"N\"]\n",
    "probabilidades = {\"C\": 0.9, \"N\":0.1}\n",
    "arranjos = itertools.product(possibilidades, repeat=n)\n",
    "espaco_amostral = list(arranjos)\n",
    "probabilidades_linhas = []\n",
    "\n",
    "for res in espaco_amostral:\n",
    "    j = 1.0\n",
    "    for e in res:\n",
    "        j*=probabilidades[e]\n",
    "    probabilidades_linhas.append(j)\n",
    "    \n",
    "valores = {} #acumular quantidade\n",
    "for i in range(len(espaco_amostral)):\n",
    "    quantidade = espaco_amostral[i].count(\"N\")\n",
    "    # Checar antes se a chave está no dicionário\n",
    "    if quantidade in valores:\n",
    "        valores[quantidade] += probabilidades_linhas[i]\n",
    "    else:\n",
    "        valores[quantidade] = probabilidades_linhas[i]"
   ]
  },
  {
   "cell_type": "code",
   "execution_count": 74,
   "metadata": {
    "collapsed": false
   },
   "outputs": [
    {
     "name": "stdout",
     "output_type": "stream",
     "text": [
      "Probabilidade por método tradicional\n",
      "Sucessos:  0  Probabilidade 0.22877 \n",
      "Sucessos:  1  Probabilidade 0.35586 \n",
      "Sucessos:  2  Probabilidade 0.25701 \n",
      "Sucessos:  3  Probabilidade 0.11423 \n",
      "Sucessos:  4  Probabilidade 0.03490 \n",
      "Sucessos:  5  Probabilidade 0.00776 \n",
      "Sucessos:  6  Probabilidade 0.00129 \n",
      "Sucessos:  7  Probabilidade 0.00016 \n",
      "Sucessos:  8  Probabilidade 0.00002 \n",
      "Sucessos:  9  Probabilidade 0.00000 \n",
      "Sucessos:  10  Probabilidade 0.00000 \n",
      "Sucessos:  11  Probabilidade 0.00000 \n",
      "Sucessos:  12  Probabilidade 0.00000 \n",
      "Sucessos:  13  Probabilidade 0.00000 \n",
      "Sucessos:  14  Probabilidade 0.00000 \n",
      "\n",
      "Probabilidade pelo método do binômio\n",
      "Sucessos:  0  Probabilidade 0.22877 \n",
      "Sucessos:  1  Probabilidade 0.35586 \n",
      "Sucessos:  2  Probabilidade 0.25701 \n",
      "Sucessos:  3  Probabilidade 0.11423 \n",
      "Sucessos:  4  Probabilidade 0.03490 \n",
      "Sucessos:  5  Probabilidade 0.00776 \n",
      "Sucessos:  6  Probabilidade 0.00129 \n",
      "Sucessos:  7  Probabilidade 0.00016 \n",
      "Sucessos:  8  Probabilidade 0.00002 \n",
      "Sucessos:  9  Probabilidade 0.00000 \n",
      "Sucessos:  10  Probabilidade 0.00000 \n",
      "Sucessos:  11  Probabilidade 0.00000 \n",
      "Sucessos:  12  Probabilidade 0.00000 \n",
      "Sucessos:  13  Probabilidade 0.00000 \n",
      "Sucessos:  14  Probabilidade 0.00000 \n"
     ]
    }
   ],
   "source": [
    "print(\"Probabilidade por método tradicional\")\n",
    "for k in valores:\n",
    "    print(\"Sucessos: \", k, \" Probabilidade\", \"%6.5f \"%valores[k])\n",
    "    \n",
    "print()\n",
    "\n",
    "print(\"Probabilidade pelo método do binômio\")\n",
    "for y in valores:\n",
    "    binomio = stats.binom.pmf(y, n, p)\n",
    "    print(\"Sucessos: \", y, \" Probabilidade\", \"%6.5f \"%binomio)\n"
   ]
  },
  {
   "cell_type": "markdown",
   "metadata": {},
   "source": [
    "Os resultados obtidos calculando normalmente a probabilidade para nossa situação em questão e calculando com o binômio são semelhantes, o que comprova que nesse caso, as propriedades da distribuição Binomial  são satisfeitas."
   ]
  },
  {
   "cell_type": "code",
   "execution_count": 85,
   "metadata": {
    "collapsed": false
   },
   "outputs": [
    {
     "data": {
      "text/plain": [
       "(array(1.4000000000000001), array(1.2600000000000002))"
      ]
     },
     "execution_count": 85,
     "metadata": {},
     "output_type": "execute_result"
    }
   ],
   "source": [
    "#C Valor esperado e variância segundo distribuição binomial\n",
    "stats.binom.stats(n, p, moments='mv')"
   ]
  },
  {
   "cell_type": "code",
   "execution_count": 86,
   "metadata": {
    "collapsed": false
   },
   "outputs": [
    {
     "name": "stdout",
     "output_type": "stream",
     "text": [
      "Valor esperado:  1.4000000000000001\n",
      "Variância:  1.2600000000000002\n"
     ]
    }
   ],
   "source": [
    "#C Segundo a Tabela 4.4 do Magalhães e Lima\n",
    "Valor_esperado = n*p\n",
    "variancia = n*p*(1-p)\n",
    "print(\"Valor esperado: \", Valor_esperado)\n",
    "print(\"Variância: \", variancia)"
   ]
  },
  {
   "cell_type": "markdown",
   "metadata": {},
   "source": [
    "Os valores obtidos com a função de distribuição Binomial e com a Tabela 4.4 do Magalhães e Lima são idênticas"
   ]
  },
  {
   "cell_type": "code",
   "execution_count": 83,
   "metadata": {
    "collapsed": false
   },
   "outputs": [
    {
     "name": "stdout",
     "output_type": "stream",
     "text": [
      "1    31.666667\n",
      "0    28.800000\n",
      "2    22.133333\n",
      "3    10.833333\n",
      "4     4.633333\n",
      "5     1.566667\n",
      "6     0.266667\n",
      "7     0.066667\n",
      "8     0.033333\n",
      "Name: Quantidade, dtype: float64\n",
      "\n",
      "Probabilidade pelo método do binômio\n",
      "0  Probabilidade 22.87679 \n",
      "1  Probabilidade 35.58612 \n",
      "2  Probabilidade 25.70109 \n",
      "3  Probabilidade 11.42271 \n",
      "4  Probabilidade 3.49027 \n",
      "5  Probabilidade 0.77562 \n",
      "6  Probabilidade 0.12927 \n",
      "7  Probabilidade 0.01642 \n",
      "8  Probabilidade 0.00160 \n"
     ]
    }
   ],
   "source": [
    "#D Comparação entre a frequência relativa de ocorrência de não conformidade com a probabilidade da ocorrência\n",
    "print(frequenciar)\n",
    "print()\n",
    "print(\"Probabilidade pelo método do binômio\")\n",
    "for y in range(0,9):\n",
    "    binomio = stats.binom.pmf(y, n, p)\n",
    "    binomioo = binomio*100\n",
    "    print(y, \" Probabilidade\", \"%6.5f \"%binomioo)"
   ]
  },
  {
   "cell_type": "markdown",
   "metadata": {},
   "source": [
    "Existe uma proximidade entre os valores esperados obtidos, apesar deles não serem exatamente como os dados da frequência relativa."
   ]
  },
  {
   "cell_type": "code",
   "execution_count": 95,
   "metadata": {
    "collapsed": false
   },
   "outputs": [
    {
     "name": "stdout",
     "output_type": "stream",
     "text": [
      "Frequencia relativa acumulada\n",
      "0.28800 \n",
      "0.31667 \n",
      "0.22133 \n",
      "0.10833 \n",
      "0.04633 \n",
      "0.01567 \n",
      "0.00267 \n",
      "0.00067 \n",
      "0.00033 \n",
      "1.0\n",
      "\n",
      "Probabilidade acumulada\n",
      "0.22877 \n",
      "0.35586 \n",
      "0.25701 \n",
      "0.11423 \n",
      "0.03490 \n",
      "0.00776 \n",
      "0.00129 \n",
      "0.00016 \n",
      "0.00002 \n",
      "0.999998749435\n"
     ]
    }
   ],
   "source": [
    "# D comparação frequencia relativa acumulada e probabilidade acumulada\n",
    "print(\"Frequencia relativa acumulada\")\n",
    "fa = 0\n",
    "for i in range(0,9):\n",
    "    freq = carros.Quantidade.value_counts(True)[i]\n",
    "    print(\"%6.5f \"%freq)\n",
    "    fa += freq\n",
    "print(fa)\n",
    "\n",
    "print()\n",
    "print(\"Probabilidade acumulada\")\n",
    "pa = 0\n",
    "for y in range(0,9):\n",
    "    prob = binomio = stats.binom.pmf(y, n, p)\n",
    "    print(\"%6.5f \"%binomio)\n",
    "    pa += binomio\n",
    "    \n",
    "print(pa)"
   ]
  },
  {
   "cell_type": "markdown",
   "metadata": {},
   "source": [
    "A comparação nesse tópico também não é exata porém os valores de frequência relativa acumulada e probabilidade acumulada são próximos."
   ]
  },
  {
   "cell_type": "markdown",
   "metadata": {},
   "source": [
    "E) A necessidade de um modelo probabilístico é "
   ]
  },
  {
   "cell_type": "code",
   "execution_count": null,
   "metadata": {
    "collapsed": true
   },
   "outputs": [],
   "source": []
  }
 ],
 "metadata": {
  "anaconda-cloud": {},
  "kernelspec": {
   "display_name": "Python 3",
   "language": "python",
   "name": "python3"
  },
  "language_info": {
   "codemirror_mode": {
    "name": "ipython",
    "version": 3
   },
   "file_extension": ".py",
   "mimetype": "text/x-python",
   "name": "python",
   "nbconvert_exporter": "python",
   "pygments_lexer": "ipython3",
   "version": "3.5.2"
  }
 },
 "nbformat": 4,
 "nbformat_minor": 0
}
